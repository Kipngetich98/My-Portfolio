{
  "cells": [
    {
      "cell_type": "code",
      "execution_count": null,
      "metadata": {
        "id": "7CHL-Q8vdHHm"
      },
      "outputs": [],
      "source": []
    },
    {
      "cell_type": "markdown",
      "metadata": {
        "id": "0Q6e6We8dX3O"
      },
      "source": [
        "# **Predicting Employee Absenteeism From Work**"
      ]
    },
    {
      "cell_type": "markdown",
      "metadata": {
        "id": "4Wu3Pm98d0p6"
      },
      "source": [
        "# Abstract\n",
        "The database was created with records of absenteeism at work from July 2007 to July 2010 at a courier company in Brazil"
      ]
    },
    {
      "cell_type": "markdown",
      "metadata": {},
      "source": [
        "Absenteeism is a habitual pattern of absence from a duty or obligation without good reason. Generally, absenteeism is unplanned absences. If a workplace exhibits a high degree of absenteeism there is a problem. It has been viewed as an indicator of poor individual performance, as well as a breach of an implicit contract between employee and employer."
      ]
    },
    {
      "cell_type": "markdown",
      "metadata": {
        "id": "4ZRkyejJeAur"
      },
      "source": [
        "# **Problem Statement**\n",
        "Today's work environment has a lot of problems including:\n",
        "\n",
        "\n",
        "*   Managers setting unachievable goals\n",
        "*   Competition among industries\n",
        "*   high risk of being unemployed\n",
        "\n",
        "As a result, employees are likely to face huge pressure and work stress which has effect on employee health\n",
        "\n",
        "\n"
      ]
    },
    {
      "cell_type": "markdown",
      "metadata": {
        "id": "Po58NHJYd34s"
      },
      "source": [
        "**Aim of the portfolio**\n",
        "\n",
        "To predict hours of Absenteeism at work using the features provided in the data set with information like:\n",
        "* How far they live from their workplace.\n",
        "* How many children and pets they have.\n",
        "* Do they have higher education?"
      ]
    },
    {
      "cell_type": "markdown",
      "metadata": {
        "id": "RiYAAGjMj7Ky"
      },
      "source": [
        "**Data source**\n",
        "UCI Machine Learning Repository"
      ]
    },
    {
      "cell_type": "code",
      "execution_count": null,
      "metadata": {
        "id": "AKNhxneDjsqd"
      },
      "outputs": [],
      "source": []
    },
    {
      "cell_type": "markdown",
      "metadata": {
        "id": "wptG_UJyjtEo"
      },
      "source": [
        "\n"
      ]
    },
    {
      "cell_type": "markdown",
      "metadata": {
        "id": "puHRxz91iSS7"
      },
      "source": [
        "**Basic Imports**"
      ]
    },
    {
      "cell_type": "code",
      "execution_count": 1,
      "metadata": {
        "id": "9FJFMXz7gLl9"
      },
      "outputs": [],
      "source": [
        "import pandas as pd\n",
        "import numpy as np\n",
        "import matplotlib.pyplot as plt\n",
        "import seaborn as sns\n",
        "import warnings\n",
        "warnings.filterwarnings(\"ignore\")\n"
      ]
    },
    {
      "cell_type": "code",
      "execution_count": 2,
      "metadata": {},
      "outputs": [
        {
          "name": "stdout",
          "output_type": "stream",
          "text": [
            "Files in '/home/vincent/MyPortolio/My-Portfolio': ['README.md', 'Absenteeism_at_work.csv', '.git', 'Absenteeism_at_work.xls', 'predicting_employee_absenteeism.ipynb', '.venv']\n"
          ]
        }
      ],
      "source": [
        "import os\n",
        "\n",
        "cwd = os.getcwd()  # Get the current working directory (cwd)\n",
        "files = os.listdir(cwd)  # Get all the files in that directory\n",
        "print(\"Files in %r: %s\" % (cwd, files))"
      ]
    },
    {
      "cell_type": "code",
      "execution_count": 3,
      "metadata": {},
      "outputs": [
        {
          "name": "stdout",
          "output_type": "stream",
          "text": [
            "Requirement already satisfied: xlrd in /home/vincent/anaconda3/lib/python3.9/site-packages (2.0.1)\n",
            "Note: you may need to restart the kernel to use updated packages.\n"
          ]
        }
      ],
      "source": [
        "pip install xlrd\n"
      ]
    },
    {
      "cell_type": "markdown",
      "metadata": {},
      "source": [
        "# Loading the data set"
      ]
    },
    {
      "cell_type": "code",
      "execution_count": 4,
      "metadata": {},
      "outputs": [
        {
          "data": {
            "text/html": [
              "<div>\n",
              "<style scoped>\n",
              "    .dataframe tbody tr th:only-of-type {\n",
              "        vertical-align: middle;\n",
              "    }\n",
              "\n",
              "    .dataframe tbody tr th {\n",
              "        vertical-align: top;\n",
              "    }\n",
              "\n",
              "    .dataframe thead th {\n",
              "        text-align: right;\n",
              "    }\n",
              "</style>\n",
              "<table border=\"1\" class=\"dataframe\">\n",
              "  <thead>\n",
              "    <tr style=\"text-align: right;\">\n",
              "      <th></th>\n",
              "      <th>ID</th>\n",
              "      <th>Reason for absence</th>\n",
              "      <th>Month of absence</th>\n",
              "      <th>Day of the week</th>\n",
              "      <th>Seasons</th>\n",
              "      <th>Transportation expense</th>\n",
              "      <th>Distance from Residence to Work</th>\n",
              "      <th>Service time</th>\n",
              "      <th>Age</th>\n",
              "      <th>Work load Average/day</th>\n",
              "      <th>...</th>\n",
              "      <th>Disciplinary failure</th>\n",
              "      <th>Education</th>\n",
              "      <th>Son</th>\n",
              "      <th>Social drinker</th>\n",
              "      <th>Social smoker</th>\n",
              "      <th>Pet</th>\n",
              "      <th>Weight</th>\n",
              "      <th>Height</th>\n",
              "      <th>Body mass index</th>\n",
              "      <th>Absenteeism time in hours</th>\n",
              "    </tr>\n",
              "  </thead>\n",
              "  <tbody>\n",
              "    <tr>\n",
              "      <th>0</th>\n",
              "      <td>11</td>\n",
              "      <td>26</td>\n",
              "      <td>7</td>\n",
              "      <td>3</td>\n",
              "      <td>1</td>\n",
              "      <td>289</td>\n",
              "      <td>36</td>\n",
              "      <td>13</td>\n",
              "      <td>33</td>\n",
              "      <td>239554</td>\n",
              "      <td>...</td>\n",
              "      <td>0</td>\n",
              "      <td>1</td>\n",
              "      <td>2</td>\n",
              "      <td>1</td>\n",
              "      <td>0</td>\n",
              "      <td>1</td>\n",
              "      <td>90</td>\n",
              "      <td>172</td>\n",
              "      <td>30</td>\n",
              "      <td>4</td>\n",
              "    </tr>\n",
              "    <tr>\n",
              "      <th>1</th>\n",
              "      <td>36</td>\n",
              "      <td>0</td>\n",
              "      <td>7</td>\n",
              "      <td>3</td>\n",
              "      <td>1</td>\n",
              "      <td>118</td>\n",
              "      <td>13</td>\n",
              "      <td>18</td>\n",
              "      <td>50</td>\n",
              "      <td>239554</td>\n",
              "      <td>...</td>\n",
              "      <td>1</td>\n",
              "      <td>1</td>\n",
              "      <td>1</td>\n",
              "      <td>1</td>\n",
              "      <td>0</td>\n",
              "      <td>0</td>\n",
              "      <td>98</td>\n",
              "      <td>178</td>\n",
              "      <td>31</td>\n",
              "      <td>0</td>\n",
              "    </tr>\n",
              "    <tr>\n",
              "      <th>2</th>\n",
              "      <td>3</td>\n",
              "      <td>23</td>\n",
              "      <td>7</td>\n",
              "      <td>4</td>\n",
              "      <td>1</td>\n",
              "      <td>179</td>\n",
              "      <td>51</td>\n",
              "      <td>18</td>\n",
              "      <td>38</td>\n",
              "      <td>239554</td>\n",
              "      <td>...</td>\n",
              "      <td>0</td>\n",
              "      <td>1</td>\n",
              "      <td>0</td>\n",
              "      <td>1</td>\n",
              "      <td>0</td>\n",
              "      <td>0</td>\n",
              "      <td>89</td>\n",
              "      <td>170</td>\n",
              "      <td>31</td>\n",
              "      <td>2</td>\n",
              "    </tr>\n",
              "    <tr>\n",
              "      <th>3</th>\n",
              "      <td>7</td>\n",
              "      <td>7</td>\n",
              "      <td>7</td>\n",
              "      <td>5</td>\n",
              "      <td>1</td>\n",
              "      <td>279</td>\n",
              "      <td>5</td>\n",
              "      <td>14</td>\n",
              "      <td>39</td>\n",
              "      <td>239554</td>\n",
              "      <td>...</td>\n",
              "      <td>0</td>\n",
              "      <td>1</td>\n",
              "      <td>2</td>\n",
              "      <td>1</td>\n",
              "      <td>1</td>\n",
              "      <td>0</td>\n",
              "      <td>68</td>\n",
              "      <td>168</td>\n",
              "      <td>24</td>\n",
              "      <td>4</td>\n",
              "    </tr>\n",
              "    <tr>\n",
              "      <th>4</th>\n",
              "      <td>11</td>\n",
              "      <td>23</td>\n",
              "      <td>7</td>\n",
              "      <td>5</td>\n",
              "      <td>1</td>\n",
              "      <td>289</td>\n",
              "      <td>36</td>\n",
              "      <td>13</td>\n",
              "      <td>33</td>\n",
              "      <td>239554</td>\n",
              "      <td>...</td>\n",
              "      <td>0</td>\n",
              "      <td>1</td>\n",
              "      <td>2</td>\n",
              "      <td>1</td>\n",
              "      <td>0</td>\n",
              "      <td>1</td>\n",
              "      <td>90</td>\n",
              "      <td>172</td>\n",
              "      <td>30</td>\n",
              "      <td>2</td>\n",
              "    </tr>\n",
              "  </tbody>\n",
              "</table>\n",
              "<p>5 rows × 21 columns</p>\n",
              "</div>"
            ],
            "text/plain": [
              "   ID  Reason for absence  Month of absence  Day of the week  Seasons  \\\n",
              "0  11                  26                 7                3        1   \n",
              "1  36                   0                 7                3        1   \n",
              "2   3                  23                 7                4        1   \n",
              "3   7                   7                 7                5        1   \n",
              "4  11                  23                 7                5        1   \n",
              "\n",
              "   Transportation expense  Distance from Residence to Work  Service time  Age  \\\n",
              "0                     289                               36            13   33   \n",
              "1                     118                               13            18   50   \n",
              "2                     179                               51            18   38   \n",
              "3                     279                                5            14   39   \n",
              "4                     289                               36            13   33   \n",
              "\n",
              "   Work load Average/day   ...  Disciplinary failure  Education  Son  \\\n",
              "0                  239554  ...                     0          1    2   \n",
              "1                  239554  ...                     1          1    1   \n",
              "2                  239554  ...                     0          1    0   \n",
              "3                  239554  ...                     0          1    2   \n",
              "4                  239554  ...                     0          1    2   \n",
              "\n",
              "   Social drinker  Social smoker  Pet  Weight  Height  Body mass index  \\\n",
              "0               1              0    1      90     172               30   \n",
              "1               1              0    0      98     178               31   \n",
              "2               1              0    0      89     170               31   \n",
              "3               1              1    0      68     168               24   \n",
              "4               1              0    1      90     172               30   \n",
              "\n",
              "   Absenteeism time in hours  \n",
              "0                          4  \n",
              "1                          0  \n",
              "2                          2  \n",
              "3                          4  \n",
              "4                          2  \n",
              "\n",
              "[5 rows x 21 columns]"
            ]
          },
          "execution_count": 4,
          "metadata": {},
          "output_type": "execute_result"
        }
      ],
      "source": [
        "Data = pd.read_excel('/home/vincent/MyPortolio/My-Portfolio/Absenteeism_at_work.xls')\n",
        "Data.head() #visualizing the first and last few rows\n"
      ]
    },
    {
      "cell_type": "markdown",
      "metadata": {},
      "source": [
        "# Basic Analysis"
      ]
    },
    {
      "cell_type": "markdown",
      "metadata": {},
      "source": []
    },
    {
      "cell_type": "code",
      "execution_count": 5,
      "metadata": {},
      "outputs": [
        {
          "data": {
            "text/html": [
              "<div>\n",
              "<style scoped>\n",
              "    .dataframe tbody tr th:only-of-type {\n",
              "        vertical-align: middle;\n",
              "    }\n",
              "\n",
              "    .dataframe tbody tr th {\n",
              "        vertical-align: top;\n",
              "    }\n",
              "\n",
              "    .dataframe thead th {\n",
              "        text-align: right;\n",
              "    }\n",
              "</style>\n",
              "<table border=\"1\" class=\"dataframe\">\n",
              "  <thead>\n",
              "    <tr style=\"text-align: right;\">\n",
              "      <th></th>\n",
              "      <th>ID</th>\n",
              "      <th>Reason for absence</th>\n",
              "      <th>Month of absence</th>\n",
              "      <th>Day of the week</th>\n",
              "      <th>Seasons</th>\n",
              "      <th>Transportation expense</th>\n",
              "      <th>Distance from Residence to Work</th>\n",
              "      <th>Service time</th>\n",
              "      <th>Age</th>\n",
              "      <th>Work load Average/day</th>\n",
              "      <th>...</th>\n",
              "      <th>Disciplinary failure</th>\n",
              "      <th>Education</th>\n",
              "      <th>Son</th>\n",
              "      <th>Social drinker</th>\n",
              "      <th>Social smoker</th>\n",
              "      <th>Pet</th>\n",
              "      <th>Weight</th>\n",
              "      <th>Height</th>\n",
              "      <th>Body mass index</th>\n",
              "      <th>Absenteeism time in hours</th>\n",
              "    </tr>\n",
              "  </thead>\n",
              "  <tbody>\n",
              "    <tr>\n",
              "      <th>735</th>\n",
              "      <td>11</td>\n",
              "      <td>14</td>\n",
              "      <td>7</td>\n",
              "      <td>3</td>\n",
              "      <td>1</td>\n",
              "      <td>289</td>\n",
              "      <td>36</td>\n",
              "      <td>13</td>\n",
              "      <td>33</td>\n",
              "      <td>264604</td>\n",
              "      <td>...</td>\n",
              "      <td>0</td>\n",
              "      <td>1</td>\n",
              "      <td>2</td>\n",
              "      <td>1</td>\n",
              "      <td>0</td>\n",
              "      <td>1</td>\n",
              "      <td>90</td>\n",
              "      <td>172</td>\n",
              "      <td>30</td>\n",
              "      <td>8</td>\n",
              "    </tr>\n",
              "    <tr>\n",
              "      <th>736</th>\n",
              "      <td>1</td>\n",
              "      <td>11</td>\n",
              "      <td>7</td>\n",
              "      <td>3</td>\n",
              "      <td>1</td>\n",
              "      <td>235</td>\n",
              "      <td>11</td>\n",
              "      <td>14</td>\n",
              "      <td>37</td>\n",
              "      <td>264604</td>\n",
              "      <td>...</td>\n",
              "      <td>0</td>\n",
              "      <td>3</td>\n",
              "      <td>1</td>\n",
              "      <td>0</td>\n",
              "      <td>0</td>\n",
              "      <td>1</td>\n",
              "      <td>88</td>\n",
              "      <td>172</td>\n",
              "      <td>29</td>\n",
              "      <td>4</td>\n",
              "    </tr>\n",
              "    <tr>\n",
              "      <th>737</th>\n",
              "      <td>4</td>\n",
              "      <td>0</td>\n",
              "      <td>0</td>\n",
              "      <td>3</td>\n",
              "      <td>1</td>\n",
              "      <td>118</td>\n",
              "      <td>14</td>\n",
              "      <td>13</td>\n",
              "      <td>40</td>\n",
              "      <td>271219</td>\n",
              "      <td>...</td>\n",
              "      <td>0</td>\n",
              "      <td>1</td>\n",
              "      <td>1</td>\n",
              "      <td>1</td>\n",
              "      <td>0</td>\n",
              "      <td>8</td>\n",
              "      <td>98</td>\n",
              "      <td>170</td>\n",
              "      <td>34</td>\n",
              "      <td>0</td>\n",
              "    </tr>\n",
              "    <tr>\n",
              "      <th>738</th>\n",
              "      <td>8</td>\n",
              "      <td>0</td>\n",
              "      <td>0</td>\n",
              "      <td>4</td>\n",
              "      <td>2</td>\n",
              "      <td>231</td>\n",
              "      <td>35</td>\n",
              "      <td>14</td>\n",
              "      <td>39</td>\n",
              "      <td>271219</td>\n",
              "      <td>...</td>\n",
              "      <td>0</td>\n",
              "      <td>1</td>\n",
              "      <td>2</td>\n",
              "      <td>1</td>\n",
              "      <td>0</td>\n",
              "      <td>2</td>\n",
              "      <td>100</td>\n",
              "      <td>170</td>\n",
              "      <td>35</td>\n",
              "      <td>0</td>\n",
              "    </tr>\n",
              "    <tr>\n",
              "      <th>739</th>\n",
              "      <td>35</td>\n",
              "      <td>0</td>\n",
              "      <td>0</td>\n",
              "      <td>6</td>\n",
              "      <td>3</td>\n",
              "      <td>179</td>\n",
              "      <td>45</td>\n",
              "      <td>14</td>\n",
              "      <td>53</td>\n",
              "      <td>271219</td>\n",
              "      <td>...</td>\n",
              "      <td>0</td>\n",
              "      <td>1</td>\n",
              "      <td>1</td>\n",
              "      <td>0</td>\n",
              "      <td>0</td>\n",
              "      <td>1</td>\n",
              "      <td>77</td>\n",
              "      <td>175</td>\n",
              "      <td>25</td>\n",
              "      <td>0</td>\n",
              "    </tr>\n",
              "  </tbody>\n",
              "</table>\n",
              "<p>5 rows × 21 columns</p>\n",
              "</div>"
            ],
            "text/plain": [
              "     ID  Reason for absence  Month of absence  Day of the week  Seasons  \\\n",
              "735  11                  14                 7                3        1   \n",
              "736   1                  11                 7                3        1   \n",
              "737   4                   0                 0                3        1   \n",
              "738   8                   0                 0                4        2   \n",
              "739  35                   0                 0                6        3   \n",
              "\n",
              "     Transportation expense  Distance from Residence to Work  Service time  \\\n",
              "735                     289                               36            13   \n",
              "736                     235                               11            14   \n",
              "737                     118                               14            13   \n",
              "738                     231                               35            14   \n",
              "739                     179                               45            14   \n",
              "\n",
              "     Age  Work load Average/day   ...  Disciplinary failure  Education  Son  \\\n",
              "735   33                  264604  ...                     0          1    2   \n",
              "736   37                  264604  ...                     0          3    1   \n",
              "737   40                  271219  ...                     0          1    1   \n",
              "738   39                  271219  ...                     0          1    2   \n",
              "739   53                  271219  ...                     0          1    1   \n",
              "\n",
              "     Social drinker  Social smoker  Pet  Weight  Height  Body mass index  \\\n",
              "735               1              0    1      90     172               30   \n",
              "736               0              0    1      88     172               29   \n",
              "737               1              0    8      98     170               34   \n",
              "738               1              0    2     100     170               35   \n",
              "739               0              0    1      77     175               25   \n",
              "\n",
              "     Absenteeism time in hours  \n",
              "735                          8  \n",
              "736                          4  \n",
              "737                          0  \n",
              "738                          0  \n",
              "739                          0  \n",
              "\n",
              "[5 rows x 21 columns]"
            ]
          },
          "execution_count": 5,
          "metadata": {},
          "output_type": "execute_result"
        }
      ],
      "source": [
        "Data.tail()"
      ]
    },
    {
      "cell_type": "code",
      "execution_count": 6,
      "metadata": {},
      "outputs": [
        {
          "data": {
            "text/html": [
              "<div>\n",
              "<style scoped>\n",
              "    .dataframe tbody tr th:only-of-type {\n",
              "        vertical-align: middle;\n",
              "    }\n",
              "\n",
              "    .dataframe tbody tr th {\n",
              "        vertical-align: top;\n",
              "    }\n",
              "\n",
              "    .dataframe thead th {\n",
              "        text-align: right;\n",
              "    }\n",
              "</style>\n",
              "<table border=\"1\" class=\"dataframe\">\n",
              "  <thead>\n",
              "    <tr style=\"text-align: right;\">\n",
              "      <th></th>\n",
              "      <th>ID</th>\n",
              "      <th>Reason for absence</th>\n",
              "      <th>Month of absence</th>\n",
              "      <th>Day of the week</th>\n",
              "      <th>Seasons</th>\n",
              "      <th>Transportation expense</th>\n",
              "      <th>Distance from Residence to Work</th>\n",
              "      <th>Service time</th>\n",
              "      <th>Age</th>\n",
              "      <th>Work load Average/day</th>\n",
              "      <th>...</th>\n",
              "      <th>Disciplinary failure</th>\n",
              "      <th>Education</th>\n",
              "      <th>Son</th>\n",
              "      <th>Social drinker</th>\n",
              "      <th>Social smoker</th>\n",
              "      <th>Pet</th>\n",
              "      <th>Weight</th>\n",
              "      <th>Height</th>\n",
              "      <th>Body mass index</th>\n",
              "      <th>Absenteeism time in hours</th>\n",
              "    </tr>\n",
              "  </thead>\n",
              "  <tbody>\n",
              "    <tr>\n",
              "      <th>count</th>\n",
              "      <td>740.0</td>\n",
              "      <td>740.0</td>\n",
              "      <td>740.0</td>\n",
              "      <td>740.0</td>\n",
              "      <td>740.0</td>\n",
              "      <td>740.0</td>\n",
              "      <td>740.0</td>\n",
              "      <td>740.0</td>\n",
              "      <td>740.0</td>\n",
              "      <td>740.0</td>\n",
              "      <td>...</td>\n",
              "      <td>740.0</td>\n",
              "      <td>740.0</td>\n",
              "      <td>740.0</td>\n",
              "      <td>740.0</td>\n",
              "      <td>740.0</td>\n",
              "      <td>740.0</td>\n",
              "      <td>740.0</td>\n",
              "      <td>740.0</td>\n",
              "      <td>740.0</td>\n",
              "      <td>740.0</td>\n",
              "    </tr>\n",
              "    <tr>\n",
              "      <th>mean</th>\n",
              "      <td>18.0</td>\n",
              "      <td>19.0</td>\n",
              "      <td>6.0</td>\n",
              "      <td>4.0</td>\n",
              "      <td>3.0</td>\n",
              "      <td>221.0</td>\n",
              "      <td>30.0</td>\n",
              "      <td>13.0</td>\n",
              "      <td>36.0</td>\n",
              "      <td>271490.0</td>\n",
              "      <td>...</td>\n",
              "      <td>0.0</td>\n",
              "      <td>1.0</td>\n",
              "      <td>1.0</td>\n",
              "      <td>1.0</td>\n",
              "      <td>0.0</td>\n",
              "      <td>1.0</td>\n",
              "      <td>79.0</td>\n",
              "      <td>172.0</td>\n",
              "      <td>27.0</td>\n",
              "      <td>7.0</td>\n",
              "    </tr>\n",
              "    <tr>\n",
              "      <th>std</th>\n",
              "      <td>11.0</td>\n",
              "      <td>8.0</td>\n",
              "      <td>3.0</td>\n",
              "      <td>1.0</td>\n",
              "      <td>1.0</td>\n",
              "      <td>67.0</td>\n",
              "      <td>15.0</td>\n",
              "      <td>4.0</td>\n",
              "      <td>6.0</td>\n",
              "      <td>39058.0</td>\n",
              "      <td>...</td>\n",
              "      <td>0.0</td>\n",
              "      <td>1.0</td>\n",
              "      <td>1.0</td>\n",
              "      <td>0.0</td>\n",
              "      <td>0.0</td>\n",
              "      <td>1.0</td>\n",
              "      <td>13.0</td>\n",
              "      <td>6.0</td>\n",
              "      <td>4.0</td>\n",
              "      <td>13.0</td>\n",
              "    </tr>\n",
              "    <tr>\n",
              "      <th>min</th>\n",
              "      <td>1.0</td>\n",
              "      <td>0.0</td>\n",
              "      <td>0.0</td>\n",
              "      <td>2.0</td>\n",
              "      <td>1.0</td>\n",
              "      <td>118.0</td>\n",
              "      <td>5.0</td>\n",
              "      <td>1.0</td>\n",
              "      <td>27.0</td>\n",
              "      <td>205917.0</td>\n",
              "      <td>...</td>\n",
              "      <td>0.0</td>\n",
              "      <td>1.0</td>\n",
              "      <td>0.0</td>\n",
              "      <td>0.0</td>\n",
              "      <td>0.0</td>\n",
              "      <td>0.0</td>\n",
              "      <td>56.0</td>\n",
              "      <td>163.0</td>\n",
              "      <td>19.0</td>\n",
              "      <td>0.0</td>\n",
              "    </tr>\n",
              "    <tr>\n",
              "      <th>25%</th>\n",
              "      <td>9.0</td>\n",
              "      <td>13.0</td>\n",
              "      <td>3.0</td>\n",
              "      <td>3.0</td>\n",
              "      <td>2.0</td>\n",
              "      <td>179.0</td>\n",
              "      <td>16.0</td>\n",
              "      <td>9.0</td>\n",
              "      <td>31.0</td>\n",
              "      <td>244387.0</td>\n",
              "      <td>...</td>\n",
              "      <td>0.0</td>\n",
              "      <td>1.0</td>\n",
              "      <td>0.0</td>\n",
              "      <td>0.0</td>\n",
              "      <td>0.0</td>\n",
              "      <td>0.0</td>\n",
              "      <td>69.0</td>\n",
              "      <td>169.0</td>\n",
              "      <td>24.0</td>\n",
              "      <td>2.0</td>\n",
              "    </tr>\n",
              "    <tr>\n",
              "      <th>50%</th>\n",
              "      <td>18.0</td>\n",
              "      <td>23.0</td>\n",
              "      <td>6.0</td>\n",
              "      <td>4.0</td>\n",
              "      <td>3.0</td>\n",
              "      <td>225.0</td>\n",
              "      <td>26.0</td>\n",
              "      <td>13.0</td>\n",
              "      <td>37.0</td>\n",
              "      <td>264249.0</td>\n",
              "      <td>...</td>\n",
              "      <td>0.0</td>\n",
              "      <td>1.0</td>\n",
              "      <td>1.0</td>\n",
              "      <td>1.0</td>\n",
              "      <td>0.0</td>\n",
              "      <td>0.0</td>\n",
              "      <td>83.0</td>\n",
              "      <td>170.0</td>\n",
              "      <td>25.0</td>\n",
              "      <td>3.0</td>\n",
              "    </tr>\n",
              "    <tr>\n",
              "      <th>75%</th>\n",
              "      <td>28.0</td>\n",
              "      <td>26.0</td>\n",
              "      <td>9.0</td>\n",
              "      <td>5.0</td>\n",
              "      <td>4.0</td>\n",
              "      <td>260.0</td>\n",
              "      <td>50.0</td>\n",
              "      <td>16.0</td>\n",
              "      <td>40.0</td>\n",
              "      <td>294217.0</td>\n",
              "      <td>...</td>\n",
              "      <td>0.0</td>\n",
              "      <td>1.0</td>\n",
              "      <td>2.0</td>\n",
              "      <td>1.0</td>\n",
              "      <td>0.0</td>\n",
              "      <td>1.0</td>\n",
              "      <td>89.0</td>\n",
              "      <td>172.0</td>\n",
              "      <td>31.0</td>\n",
              "      <td>8.0</td>\n",
              "    </tr>\n",
              "    <tr>\n",
              "      <th>max</th>\n",
              "      <td>36.0</td>\n",
              "      <td>28.0</td>\n",
              "      <td>12.0</td>\n",
              "      <td>6.0</td>\n",
              "      <td>4.0</td>\n",
              "      <td>388.0</td>\n",
              "      <td>52.0</td>\n",
              "      <td>29.0</td>\n",
              "      <td>58.0</td>\n",
              "      <td>378884.0</td>\n",
              "      <td>...</td>\n",
              "      <td>1.0</td>\n",
              "      <td>4.0</td>\n",
              "      <td>4.0</td>\n",
              "      <td>1.0</td>\n",
              "      <td>1.0</td>\n",
              "      <td>8.0</td>\n",
              "      <td>108.0</td>\n",
              "      <td>196.0</td>\n",
              "      <td>38.0</td>\n",
              "      <td>120.0</td>\n",
              "    </tr>\n",
              "  </tbody>\n",
              "</table>\n",
              "<p>8 rows × 21 columns</p>\n",
              "</div>"
            ],
            "text/plain": [
              "          ID  Reason for absence  Month of absence  Day of the week  Seasons  \\\n",
              "count  740.0               740.0             740.0            740.0    740.0   \n",
              "mean    18.0                19.0               6.0              4.0      3.0   \n",
              "std     11.0                 8.0               3.0              1.0      1.0   \n",
              "min      1.0                 0.0               0.0              2.0      1.0   \n",
              "25%      9.0                13.0               3.0              3.0      2.0   \n",
              "50%     18.0                23.0               6.0              4.0      3.0   \n",
              "75%     28.0                26.0               9.0              5.0      4.0   \n",
              "max     36.0                28.0              12.0              6.0      4.0   \n",
              "\n",
              "       Transportation expense  Distance from Residence to Work  Service time  \\\n",
              "count                   740.0                            740.0         740.0   \n",
              "mean                    221.0                             30.0          13.0   \n",
              "std                      67.0                             15.0           4.0   \n",
              "min                     118.0                              5.0           1.0   \n",
              "25%                     179.0                             16.0           9.0   \n",
              "50%                     225.0                             26.0          13.0   \n",
              "75%                     260.0                             50.0          16.0   \n",
              "max                     388.0                             52.0          29.0   \n",
              "\n",
              "         Age  Work load Average/day   ...  Disciplinary failure  Education  \\\n",
              "count  740.0                   740.0  ...                 740.0      740.0   \n",
              "mean    36.0                271490.0  ...                   0.0        1.0   \n",
              "std      6.0                 39058.0  ...                   0.0        1.0   \n",
              "min     27.0                205917.0  ...                   0.0        1.0   \n",
              "25%     31.0                244387.0  ...                   0.0        1.0   \n",
              "50%     37.0                264249.0  ...                   0.0        1.0   \n",
              "75%     40.0                294217.0  ...                   0.0        1.0   \n",
              "max     58.0                378884.0  ...                   1.0        4.0   \n",
              "\n",
              "         Son  Social drinker  Social smoker    Pet  Weight  Height  \\\n",
              "count  740.0           740.0          740.0  740.0   740.0   740.0   \n",
              "mean     1.0             1.0            0.0    1.0    79.0   172.0   \n",
              "std      1.0             0.0            0.0    1.0    13.0     6.0   \n",
              "min      0.0             0.0            0.0    0.0    56.0   163.0   \n",
              "25%      0.0             0.0            0.0    0.0    69.0   169.0   \n",
              "50%      1.0             1.0            0.0    0.0    83.0   170.0   \n",
              "75%      2.0             1.0            0.0    1.0    89.0   172.0   \n",
              "max      4.0             1.0            1.0    8.0   108.0   196.0   \n",
              "\n",
              "       Body mass index  Absenteeism time in hours  \n",
              "count            740.0                      740.0  \n",
              "mean              27.0                        7.0  \n",
              "std                4.0                       13.0  \n",
              "min               19.0                        0.0  \n",
              "25%               24.0                        2.0  \n",
              "50%               25.0                        3.0  \n",
              "75%               31.0                        8.0  \n",
              "max               38.0                      120.0  \n",
              "\n",
              "[8 rows x 21 columns]"
            ]
          },
          "execution_count": 6,
          "metadata": {},
          "output_type": "execute_result"
        }
      ],
      "source": [
        "round(Data.describe())"
      ]
    },
    {
      "cell_type": "code",
      "execution_count": 7,
      "metadata": {},
      "outputs": [
        {
          "data": {
            "text/html": [
              "<div>\n",
              "<style scoped>\n",
              "    .dataframe tbody tr th:only-of-type {\n",
              "        vertical-align: middle;\n",
              "    }\n",
              "\n",
              "    .dataframe tbody tr th {\n",
              "        vertical-align: top;\n",
              "    }\n",
              "\n",
              "    .dataframe thead th {\n",
              "        text-align: right;\n",
              "    }\n",
              "</style>\n",
              "<table border=\"1\" class=\"dataframe\">\n",
              "  <thead>\n",
              "    <tr style=\"text-align: right;\">\n",
              "      <th></th>\n",
              "      <th>ID</th>\n",
              "      <th>Reason for absence</th>\n",
              "      <th>Month of absence</th>\n",
              "      <th>Day of the week</th>\n",
              "      <th>Seasons</th>\n",
              "      <th>Transportation expense</th>\n",
              "      <th>Distance from Residence to Work</th>\n",
              "      <th>Service time</th>\n",
              "      <th>Age</th>\n",
              "      <th>Work load Average/day</th>\n",
              "      <th>...</th>\n",
              "      <th>Disciplinary failure</th>\n",
              "      <th>Education</th>\n",
              "      <th>Son</th>\n",
              "      <th>Social drinker</th>\n",
              "      <th>Social smoker</th>\n",
              "      <th>Pet</th>\n",
              "      <th>Weight</th>\n",
              "      <th>Height</th>\n",
              "      <th>Body mass index</th>\n",
              "      <th>Absenteeism time in hours</th>\n",
              "    </tr>\n",
              "  </thead>\n",
              "  <tbody>\n",
              "    <tr>\n",
              "      <th>count</th>\n",
              "      <td>740.000000</td>\n",
              "      <td>740.000000</td>\n",
              "      <td>740.000000</td>\n",
              "      <td>740.000000</td>\n",
              "      <td>740.000000</td>\n",
              "      <td>740.000000</td>\n",
              "      <td>740.000000</td>\n",
              "      <td>740.000000</td>\n",
              "      <td>740.000000</td>\n",
              "      <td>740.000000</td>\n",
              "      <td>...</td>\n",
              "      <td>740.000000</td>\n",
              "      <td>740.000000</td>\n",
              "      <td>740.000000</td>\n",
              "      <td>740.000000</td>\n",
              "      <td>740.000000</td>\n",
              "      <td>740.000000</td>\n",
              "      <td>740.000000</td>\n",
              "      <td>740.000000</td>\n",
              "      <td>740.000000</td>\n",
              "      <td>740.000000</td>\n",
              "    </tr>\n",
              "    <tr>\n",
              "      <th>mean</th>\n",
              "      <td>18.017568</td>\n",
              "      <td>19.216216</td>\n",
              "      <td>6.324324</td>\n",
              "      <td>3.914865</td>\n",
              "      <td>2.544595</td>\n",
              "      <td>221.329730</td>\n",
              "      <td>29.631081</td>\n",
              "      <td>12.554054</td>\n",
              "      <td>36.450000</td>\n",
              "      <td>271490.235135</td>\n",
              "      <td>...</td>\n",
              "      <td>0.054054</td>\n",
              "      <td>1.291892</td>\n",
              "      <td>1.018919</td>\n",
              "      <td>0.567568</td>\n",
              "      <td>0.072973</td>\n",
              "      <td>0.745946</td>\n",
              "      <td>79.035135</td>\n",
              "      <td>172.114865</td>\n",
              "      <td>26.677027</td>\n",
              "      <td>6.924324</td>\n",
              "    </tr>\n",
              "    <tr>\n",
              "      <th>std</th>\n",
              "      <td>11.021247</td>\n",
              "      <td>8.433406</td>\n",
              "      <td>3.436287</td>\n",
              "      <td>1.421675</td>\n",
              "      <td>1.111831</td>\n",
              "      <td>66.952223</td>\n",
              "      <td>14.836788</td>\n",
              "      <td>4.384873</td>\n",
              "      <td>6.478772</td>\n",
              "      <td>39058.116188</td>\n",
              "      <td>...</td>\n",
              "      <td>0.226277</td>\n",
              "      <td>0.673238</td>\n",
              "      <td>1.098489</td>\n",
              "      <td>0.495749</td>\n",
              "      <td>0.260268</td>\n",
              "      <td>1.318258</td>\n",
              "      <td>12.883211</td>\n",
              "      <td>6.034995</td>\n",
              "      <td>4.285452</td>\n",
              "      <td>13.330998</td>\n",
              "    </tr>\n",
              "    <tr>\n",
              "      <th>min</th>\n",
              "      <td>1.000000</td>\n",
              "      <td>0.000000</td>\n",
              "      <td>0.000000</td>\n",
              "      <td>2.000000</td>\n",
              "      <td>1.000000</td>\n",
              "      <td>118.000000</td>\n",
              "      <td>5.000000</td>\n",
              "      <td>1.000000</td>\n",
              "      <td>27.000000</td>\n",
              "      <td>205917.000000</td>\n",
              "      <td>...</td>\n",
              "      <td>0.000000</td>\n",
              "      <td>1.000000</td>\n",
              "      <td>0.000000</td>\n",
              "      <td>0.000000</td>\n",
              "      <td>0.000000</td>\n",
              "      <td>0.000000</td>\n",
              "      <td>56.000000</td>\n",
              "      <td>163.000000</td>\n",
              "      <td>19.000000</td>\n",
              "      <td>0.000000</td>\n",
              "    </tr>\n",
              "    <tr>\n",
              "      <th>25%</th>\n",
              "      <td>9.000000</td>\n",
              "      <td>13.000000</td>\n",
              "      <td>3.000000</td>\n",
              "      <td>3.000000</td>\n",
              "      <td>2.000000</td>\n",
              "      <td>179.000000</td>\n",
              "      <td>16.000000</td>\n",
              "      <td>9.000000</td>\n",
              "      <td>31.000000</td>\n",
              "      <td>244387.000000</td>\n",
              "      <td>...</td>\n",
              "      <td>0.000000</td>\n",
              "      <td>1.000000</td>\n",
              "      <td>0.000000</td>\n",
              "      <td>0.000000</td>\n",
              "      <td>0.000000</td>\n",
              "      <td>0.000000</td>\n",
              "      <td>69.000000</td>\n",
              "      <td>169.000000</td>\n",
              "      <td>24.000000</td>\n",
              "      <td>2.000000</td>\n",
              "    </tr>\n",
              "    <tr>\n",
              "      <th>50%</th>\n",
              "      <td>18.000000</td>\n",
              "      <td>23.000000</td>\n",
              "      <td>6.000000</td>\n",
              "      <td>4.000000</td>\n",
              "      <td>3.000000</td>\n",
              "      <td>225.000000</td>\n",
              "      <td>26.000000</td>\n",
              "      <td>13.000000</td>\n",
              "      <td>37.000000</td>\n",
              "      <td>264249.000000</td>\n",
              "      <td>...</td>\n",
              "      <td>0.000000</td>\n",
              "      <td>1.000000</td>\n",
              "      <td>1.000000</td>\n",
              "      <td>1.000000</td>\n",
              "      <td>0.000000</td>\n",
              "      <td>0.000000</td>\n",
              "      <td>83.000000</td>\n",
              "      <td>170.000000</td>\n",
              "      <td>25.000000</td>\n",
              "      <td>3.000000</td>\n",
              "    </tr>\n",
              "    <tr>\n",
              "      <th>75%</th>\n",
              "      <td>28.000000</td>\n",
              "      <td>26.000000</td>\n",
              "      <td>9.000000</td>\n",
              "      <td>5.000000</td>\n",
              "      <td>4.000000</td>\n",
              "      <td>260.000000</td>\n",
              "      <td>50.000000</td>\n",
              "      <td>16.000000</td>\n",
              "      <td>40.000000</td>\n",
              "      <td>294217.000000</td>\n",
              "      <td>...</td>\n",
              "      <td>0.000000</td>\n",
              "      <td>1.000000</td>\n",
              "      <td>2.000000</td>\n",
              "      <td>1.000000</td>\n",
              "      <td>0.000000</td>\n",
              "      <td>1.000000</td>\n",
              "      <td>89.000000</td>\n",
              "      <td>172.000000</td>\n",
              "      <td>31.000000</td>\n",
              "      <td>8.000000</td>\n",
              "    </tr>\n",
              "    <tr>\n",
              "      <th>max</th>\n",
              "      <td>36.000000</td>\n",
              "      <td>28.000000</td>\n",
              "      <td>12.000000</td>\n",
              "      <td>6.000000</td>\n",
              "      <td>4.000000</td>\n",
              "      <td>388.000000</td>\n",
              "      <td>52.000000</td>\n",
              "      <td>29.000000</td>\n",
              "      <td>58.000000</td>\n",
              "      <td>378884.000000</td>\n",
              "      <td>...</td>\n",
              "      <td>1.000000</td>\n",
              "      <td>4.000000</td>\n",
              "      <td>4.000000</td>\n",
              "      <td>1.000000</td>\n",
              "      <td>1.000000</td>\n",
              "      <td>8.000000</td>\n",
              "      <td>108.000000</td>\n",
              "      <td>196.000000</td>\n",
              "      <td>38.000000</td>\n",
              "      <td>120.000000</td>\n",
              "    </tr>\n",
              "  </tbody>\n",
              "</table>\n",
              "<p>8 rows × 21 columns</p>\n",
              "</div>"
            ],
            "text/plain": [
              "               ID  Reason for absence  Month of absence  Day of the week  \\\n",
              "count  740.000000          740.000000        740.000000       740.000000   \n",
              "mean    18.017568           19.216216          6.324324         3.914865   \n",
              "std     11.021247            8.433406          3.436287         1.421675   \n",
              "min      1.000000            0.000000          0.000000         2.000000   \n",
              "25%      9.000000           13.000000          3.000000         3.000000   \n",
              "50%     18.000000           23.000000          6.000000         4.000000   \n",
              "75%     28.000000           26.000000          9.000000         5.000000   \n",
              "max     36.000000           28.000000         12.000000         6.000000   \n",
              "\n",
              "          Seasons  Transportation expense  Distance from Residence to Work  \\\n",
              "count  740.000000              740.000000                       740.000000   \n",
              "mean     2.544595              221.329730                        29.631081   \n",
              "std      1.111831               66.952223                        14.836788   \n",
              "min      1.000000              118.000000                         5.000000   \n",
              "25%      2.000000              179.000000                        16.000000   \n",
              "50%      3.000000              225.000000                        26.000000   \n",
              "75%      4.000000              260.000000                        50.000000   \n",
              "max      4.000000              388.000000                        52.000000   \n",
              "\n",
              "       Service time         Age  Work load Average/day   ...  \\\n",
              "count    740.000000  740.000000              740.000000  ...   \n",
              "mean      12.554054   36.450000           271490.235135  ...   \n",
              "std        4.384873    6.478772            39058.116188  ...   \n",
              "min        1.000000   27.000000           205917.000000  ...   \n",
              "25%        9.000000   31.000000           244387.000000  ...   \n",
              "50%       13.000000   37.000000           264249.000000  ...   \n",
              "75%       16.000000   40.000000           294217.000000  ...   \n",
              "max       29.000000   58.000000           378884.000000  ...   \n",
              "\n",
              "       Disciplinary failure   Education         Son  Social drinker  \\\n",
              "count            740.000000  740.000000  740.000000      740.000000   \n",
              "mean               0.054054    1.291892    1.018919        0.567568   \n",
              "std                0.226277    0.673238    1.098489        0.495749   \n",
              "min                0.000000    1.000000    0.000000        0.000000   \n",
              "25%                0.000000    1.000000    0.000000        0.000000   \n",
              "50%                0.000000    1.000000    1.000000        1.000000   \n",
              "75%                0.000000    1.000000    2.000000        1.000000   \n",
              "max                1.000000    4.000000    4.000000        1.000000   \n",
              "\n",
              "       Social smoker         Pet      Weight      Height  Body mass index  \\\n",
              "count     740.000000  740.000000  740.000000  740.000000       740.000000   \n",
              "mean        0.072973    0.745946   79.035135  172.114865        26.677027   \n",
              "std         0.260268    1.318258   12.883211    6.034995         4.285452   \n",
              "min         0.000000    0.000000   56.000000  163.000000        19.000000   \n",
              "25%         0.000000    0.000000   69.000000  169.000000        24.000000   \n",
              "50%         0.000000    0.000000   83.000000  170.000000        25.000000   \n",
              "75%         0.000000    1.000000   89.000000  172.000000        31.000000   \n",
              "max         1.000000    8.000000  108.000000  196.000000        38.000000   \n",
              "\n",
              "       Absenteeism time in hours  \n",
              "count                 740.000000  \n",
              "mean                    6.924324  \n",
              "std                    13.330998  \n",
              "min                     0.000000  \n",
              "25%                     2.000000  \n",
              "50%                     3.000000  \n",
              "75%                     8.000000  \n",
              "max                   120.000000  \n",
              "\n",
              "[8 rows x 21 columns]"
            ]
          },
          "execution_count": 7,
          "metadata": {},
          "output_type": "execute_result"
        }
      ],
      "source": [
        "Data.describe(include=np.number)"
      ]
    },
    {
      "cell_type": "code",
      "execution_count": 8,
      "metadata": {},
      "outputs": [
        {
          "data": {
            "text/plain": [
              "Index(['ID', 'Reason for absence', 'Month of absence', 'Day of the week',\n",
              "       'Seasons', 'Transportation expense', 'Distance from Residence to Work',\n",
              "       'Service time', 'Age', 'Work load Average/day ', 'Hit target',\n",
              "       'Disciplinary failure', 'Education', 'Son', 'Social drinker',\n",
              "       'Social smoker', 'Pet', 'Weight', 'Height', 'Body mass index',\n",
              "       'Absenteeism time in hours'],\n",
              "      dtype='object')"
            ]
          },
          "execution_count": 8,
          "metadata": {},
          "output_type": "execute_result"
        }
      ],
      "source": [
        "#get the names of the columns\n",
        "Data.columns"
      ]
    },
    {
      "cell_type": "code",
      "execution_count": 9,
      "metadata": {},
      "outputs": [
        {
          "name": "stdout",
          "output_type": "stream",
          "text": [
            "<class 'pandas.core.frame.DataFrame'>\n",
            "RangeIndex: 740 entries, 0 to 739\n",
            "Data columns (total 21 columns):\n",
            " #   Column                           Non-Null Count  Dtype\n",
            "---  ------                           --------------  -----\n",
            " 0   ID                               740 non-null    int64\n",
            " 1   Reason for absence               740 non-null    int64\n",
            " 2   Month of absence                 740 non-null    int64\n",
            " 3   Day of the week                  740 non-null    int64\n",
            " 4   Seasons                          740 non-null    int64\n",
            " 5   Transportation expense           740 non-null    int64\n",
            " 6   Distance from Residence to Work  740 non-null    int64\n",
            " 7   Service time                     740 non-null    int64\n",
            " 8   Age                              740 non-null    int64\n",
            " 9   Work load Average/day            740 non-null    int64\n",
            " 10  Hit target                       740 non-null    int64\n",
            " 11  Disciplinary failure             740 non-null    int64\n",
            " 12  Education                        740 non-null    int64\n",
            " 13  Son                              740 non-null    int64\n",
            " 14  Social drinker                   740 non-null    int64\n",
            " 15  Social smoker                    740 non-null    int64\n",
            " 16  Pet                              740 non-null    int64\n",
            " 17  Weight                           740 non-null    int64\n",
            " 18  Height                           740 non-null    int64\n",
            " 19  Body mass index                  740 non-null    int64\n",
            " 20  Absenteeism time in hours        740 non-null    int64\n",
            "dtypes: int64(21)\n",
            "memory usage: 121.5 KB\n"
          ]
        }
      ],
      "source": [
        "Data.info()"
      ]
    },
    {
      "cell_type": "markdown",
      "metadata": {},
      "source": [
        "Pandas profiling - make EDA easier with single line of code"
      ]
    },
    {
      "cell_type": "code",
      "execution_count": 10,
      "metadata": {},
      "outputs": [
        {
          "name": "stdout",
          "output_type": "stream",
          "text": [
            "Collecting https://github.com/pandas-profiling/pandas-profiling/archive/master.zip\n",
            "  Using cached https://github.com/pandas-profiling/pandas-profiling/archive/master.zip\n",
            "Requirement already satisfied: joblib~=1.1.0 in /home/vincent/anaconda3/lib/python3.9/site-packages (from pandas-profiling==3.2.0) (1.1.0)\n",
            "Requirement already satisfied: scipy>=1.4.1 in /home/vincent/anaconda3/lib/python3.9/site-packages (from pandas-profiling==3.2.0) (1.7.1)\n",
            "Requirement already satisfied: pandas!=1.0.0,!=1.0.1,!=1.0.2,!=1.1.0,>=0.25.3 in /home/vincent/anaconda3/lib/python3.9/site-packages (from pandas-profiling==3.2.0) (1.3.4)\n",
            "Requirement already satisfied: matplotlib>=3.2.0 in /home/vincent/anaconda3/lib/python3.9/site-packages (from pandas-profiling==3.2.0) (3.4.3)\n",
            "Requirement already satisfied: pydantic>=1.8.1 in /home/vincent/anaconda3/lib/python3.9/site-packages (from pandas-profiling==3.2.0) (1.9.0)\n",
            "Requirement already satisfied: PyYAML>=5.0.0 in /home/vincent/anaconda3/lib/python3.9/site-packages (from pandas-profiling==3.2.0) (6.0)\n",
            "Requirement already satisfied: jinja2>=2.11.1 in /home/vincent/anaconda3/lib/python3.9/site-packages (from pandas-profiling==3.2.0) (2.11.3)\n",
            "Collecting markupsafe~=2.1.1\n",
            "  Using cached MarkupSafe-2.1.1-cp39-cp39-manylinux_2_17_x86_64.manylinux2014_x86_64.whl (25 kB)\n",
            "Requirement already satisfied: visions[type_image_path]==0.7.4 in /home/vincent/anaconda3/lib/python3.9/site-packages (from pandas-profiling==3.2.0) (0.7.4)\n",
            "Requirement already satisfied: numpy>=1.16.0 in /home/vincent/anaconda3/lib/python3.9/site-packages (from pandas-profiling==3.2.0) (1.20.3)\n",
            "Requirement already satisfied: htmlmin>=0.1.12 in /home/vincent/anaconda3/lib/python3.9/site-packages (from pandas-profiling==3.2.0) (0.1.12)\n",
            "Requirement already satisfied: missingno>=0.4.2 in /home/vincent/anaconda3/lib/python3.9/site-packages (from pandas-profiling==3.2.0) (0.5.1)\n",
            "Requirement already satisfied: phik>=0.11.1 in /home/vincent/anaconda3/lib/python3.9/site-packages (from pandas-profiling==3.2.0) (0.12.2)\n",
            "Requirement already satisfied: tangled-up-in-unicode==0.2.0 in /home/vincent/anaconda3/lib/python3.9/site-packages (from pandas-profiling==3.2.0) (0.2.0)\n",
            "Requirement already satisfied: requests>=2.24.0 in /home/vincent/anaconda3/lib/python3.9/site-packages (from pandas-profiling==3.2.0) (2.26.0)\n",
            "Requirement already satisfied: tqdm>=4.48.2 in /home/vincent/anaconda3/lib/python3.9/site-packages (from pandas-profiling==3.2.0) (4.62.3)\n",
            "Requirement already satisfied: seaborn>=0.10.1 in /home/vincent/anaconda3/lib/python3.9/site-packages (from pandas-profiling==3.2.0) (0.11.2)\n",
            "Requirement already satisfied: multimethod>=1.4 in /home/vincent/anaconda3/lib/python3.9/site-packages (from pandas-profiling==3.2.0) (1.8)\n",
            "Requirement already satisfied: networkx>=2.4 in /home/vincent/anaconda3/lib/python3.9/site-packages (from visions[type_image_path]==0.7.4->pandas-profiling==3.2.0) (2.6.3)\n",
            "Requirement already satisfied: attrs>=19.3.0 in /home/vincent/anaconda3/lib/python3.9/site-packages (from visions[type_image_path]==0.7.4->pandas-profiling==3.2.0) (21.2.0)\n",
            "Requirement already satisfied: Pillow in /home/vincent/anaconda3/lib/python3.9/site-packages (from visions[type_image_path]==0.7.4->pandas-profiling==3.2.0) (8.4.0)\n",
            "Requirement already satisfied: imagehash in /home/vincent/anaconda3/lib/python3.9/site-packages (from visions[type_image_path]==0.7.4->pandas-profiling==3.2.0) (4.2.1)\n",
            "Requirement already satisfied: python-dateutil>=2.7 in /home/vincent/anaconda3/lib/python3.9/site-packages (from matplotlib>=3.2.0->pandas-profiling==3.2.0) (2.8.2)\n",
            "Requirement already satisfied: cycler>=0.10 in /home/vincent/anaconda3/lib/python3.9/site-packages (from matplotlib>=3.2.0->pandas-profiling==3.2.0) (0.10.0)\n",
            "Requirement already satisfied: pyparsing>=2.2.1 in /home/vincent/anaconda3/lib/python3.9/site-packages (from matplotlib>=3.2.0->pandas-profiling==3.2.0) (3.0.4)\n",
            "Requirement already satisfied: kiwisolver>=1.0.1 in /home/vincent/anaconda3/lib/python3.9/site-packages (from matplotlib>=3.2.0->pandas-profiling==3.2.0) (1.3.1)\n",
            "Requirement already satisfied: six in /home/vincent/anaconda3/lib/python3.9/site-packages (from cycler>=0.10->matplotlib>=3.2.0->pandas-profiling==3.2.0) (1.16.0)\n",
            "Requirement already satisfied: pytz>=2017.3 in /home/vincent/anaconda3/lib/python3.9/site-packages (from pandas!=1.0.0,!=1.0.1,!=1.0.2,!=1.1.0,>=0.25.3->pandas-profiling==3.2.0) (2021.3)\n",
            "Requirement already satisfied: typing-extensions>=3.7.4.3 in /home/vincent/anaconda3/lib/python3.9/site-packages (from pydantic>=1.8.1->pandas-profiling==3.2.0) (3.10.0.2)\n",
            "Requirement already satisfied: certifi>=2017.4.17 in /home/vincent/anaconda3/lib/python3.9/site-packages (from requests>=2.24.0->pandas-profiling==3.2.0) (2021.10.8)\n",
            "Requirement already satisfied: urllib3<1.27,>=1.21.1 in /home/vincent/anaconda3/lib/python3.9/site-packages (from requests>=2.24.0->pandas-profiling==3.2.0) (1.26.7)\n",
            "Requirement already satisfied: charset-normalizer~=2.0.0 in /home/vincent/anaconda3/lib/python3.9/site-packages (from requests>=2.24.0->pandas-profiling==3.2.0) (2.0.4)\n",
            "Requirement already satisfied: idna<4,>=2.5 in /home/vincent/anaconda3/lib/python3.9/site-packages (from requests>=2.24.0->pandas-profiling==3.2.0) (3.2)\n",
            "Requirement already satisfied: PyWavelets in /home/vincent/anaconda3/lib/python3.9/site-packages (from imagehash->visions[type_image_path]==0.7.4->pandas-profiling==3.2.0) (1.1.1)\n",
            "Installing collected packages: markupsafe\n",
            "  Attempting uninstall: markupsafe\n",
            "    Found existing installation: MarkupSafe 2.0.1\n",
            "    Uninstalling MarkupSafe-2.0.1:\n",
            "      Successfully uninstalled MarkupSafe-2.0.1\n",
            "\u001b[31mERROR: pip's dependency resolver does not currently take into account all the packages that are installed. This behaviour is the source of the following dependency conflicts.\n",
            "anaconda-project 0.10.1 requires ruamel-yaml, which is not installed.\n",
            "cookiecutter 1.7.2 requires MarkupSafe<2.0.0, but you have markupsafe 2.1.1 which is incompatible.\u001b[0m\n",
            "Successfully installed markupsafe-2.1.1\n",
            "Note: you may need to restart the kernel to use updated packages.\n"
          ]
        }
      ],
      "source": [
        "pip install https://github.com/pandas-profiling/pandas-profiling/archive/master.zip"
      ]
    },
    {
      "cell_type": "code",
      "execution_count": 11,
      "metadata": {},
      "outputs": [
        {
          "name": "stdout",
          "output_type": "stream",
          "text": [
            "Collecting markupsafe==2.0.1\n",
            "  Using cached MarkupSafe-2.0.1-cp39-cp39-manylinux_2_5_x86_64.manylinux1_x86_64.manylinux_2_12_x86_64.manylinux2010_x86_64.whl (30 kB)\n",
            "Installing collected packages: markupsafe\n",
            "  Attempting uninstall: markupsafe\n",
            "    Found existing installation: MarkupSafe 2.1.1\n",
            "    Uninstalling MarkupSafe-2.1.1:\n",
            "      Successfully uninstalled MarkupSafe-2.1.1\n",
            "\u001b[31mERROR: pip's dependency resolver does not currently take into account all the packages that are installed. This behaviour is the source of the following dependency conflicts.\n",
            "anaconda-project 0.10.1 requires ruamel-yaml, which is not installed.\n",
            "pandas-profiling 3.2.0 requires markupsafe~=2.1.1, but you have markupsafe 2.0.1 which is incompatible.\n",
            "cookiecutter 1.7.2 requires MarkupSafe<2.0.0, but you have markupsafe 2.0.1 which is incompatible.\u001b[0m\n",
            "Successfully installed markupsafe-2.0.1\n",
            "Note: you may need to restart the kernel to use updated packages.\n"
          ]
        }
      ],
      "source": [
        "pip install markupsafe==2.0.1"
      ]
    },
    {
      "cell_type": "code",
      "execution_count": 12,
      "metadata": {},
      "outputs": [],
      "source": [
        "from pandas_profiling import ProfileReport"
      ]
    },
    {
      "cell_type": "code",
      "execution_count": 13,
      "metadata": {},
      "outputs": [
        {
          "name": "stderr",
          "output_type": "stream",
          "text": [
            "Summarize dataset: 100%|██████████| 230/230 [00:30<00:00,  7.66it/s, Completed]                                                              \n",
            "Generate report structure: 100%|██████████| 1/1 [00:06<00:00,  6.37s/it]\n",
            "                                                             \r"
          ]
        },
        {
          "data": {
            "application/vnd.jupyter.widget-view+json": {
              "model_id": "4f04dde9fd91465fa9335a6447118a93",
              "version_major": 2,
              "version_minor": 0
            },
            "text/plain": [
              "VBox(children=(Tab(children=(Tab(children=(GridBox(children=(VBox(children=(GridspecLayout(children=(HTML(valu…"
            ]
          },
          "metadata": {},
          "output_type": "display_data"
        }
      ],
      "source": [
        "profile = ProfileReport(Data, title = \"Panas Profile Report\")\n",
        "\n",
        "profile.to_widgets() #generate report "
      ]
    },
    {
      "cell_type": "code",
      "execution_count": 14,
      "metadata": {},
      "outputs": [
        {
          "data": {
            "text/html": [
              "<div>\n",
              "<style scoped>\n",
              "    .dataframe tbody tr th:only-of-type {\n",
              "        vertical-align: middle;\n",
              "    }\n",
              "\n",
              "    .dataframe tbody tr th {\n",
              "        vertical-align: top;\n",
              "    }\n",
              "\n",
              "    .dataframe thead th {\n",
              "        text-align: right;\n",
              "    }\n",
              "</style>\n",
              "<table border=\"1\" class=\"dataframe\">\n",
              "  <thead>\n",
              "    <tr style=\"text-align: right;\">\n",
              "      <th></th>\n",
              "      <th>Features</th>\n",
              "      <th>Data_type</th>\n",
              "      <th>Null</th>\n",
              "      <th>Null_percentage</th>\n",
              "      <th>Unique</th>\n",
              "      <th>Unique_sample</th>\n",
              "    </tr>\n",
              "  </thead>\n",
              "  <tbody>\n",
              "    <tr>\n",
              "      <th>0</th>\n",
              "      <td>ID</td>\n",
              "      <td>int64</td>\n",
              "      <td>0</td>\n",
              "      <td>0.0</td>\n",
              "      <td>36</td>\n",
              "      <td>[35, 6]</td>\n",
              "    </tr>\n",
              "    <tr>\n",
              "      <th>1</th>\n",
              "      <td>Reason for absence</td>\n",
              "      <td>int64</td>\n",
              "      <td>0</td>\n",
              "      <td>0.0</td>\n",
              "      <td>28</td>\n",
              "      <td>[15, 3]</td>\n",
              "    </tr>\n",
              "    <tr>\n",
              "      <th>2</th>\n",
              "      <td>Month of absence</td>\n",
              "      <td>int64</td>\n",
              "      <td>0</td>\n",
              "      <td>0.0</td>\n",
              "      <td>13</td>\n",
              "      <td>[10, 6]</td>\n",
              "    </tr>\n",
              "    <tr>\n",
              "      <th>3</th>\n",
              "      <td>Day of the week</td>\n",
              "      <td>int64</td>\n",
              "      <td>0</td>\n",
              "      <td>0.0</td>\n",
              "      <td>5</td>\n",
              "      <td>[3, 2]</td>\n",
              "    </tr>\n",
              "    <tr>\n",
              "      <th>4</th>\n",
              "      <td>Seasons</td>\n",
              "      <td>int64</td>\n",
              "      <td>0</td>\n",
              "      <td>0.0</td>\n",
              "      <td>4</td>\n",
              "      <td>[1, 2]</td>\n",
              "    </tr>\n",
              "    <tr>\n",
              "      <th>5</th>\n",
              "      <td>Transportation expense</td>\n",
              "      <td>int64</td>\n",
              "      <td>0</td>\n",
              "      <td>0.0</td>\n",
              "      <td>24</td>\n",
              "      <td>[361, 157]</td>\n",
              "    </tr>\n",
              "    <tr>\n",
              "      <th>6</th>\n",
              "      <td>Distance from Residence to Work</td>\n",
              "      <td>int64</td>\n",
              "      <td>0</td>\n",
              "      <td>0.0</td>\n",
              "      <td>25</td>\n",
              "      <td>[51, 20]</td>\n",
              "    </tr>\n",
              "    <tr>\n",
              "      <th>7</th>\n",
              "      <td>Service time</td>\n",
              "      <td>int64</td>\n",
              "      <td>0</td>\n",
              "      <td>0.0</td>\n",
              "      <td>18</td>\n",
              "      <td>[10, 17]</td>\n",
              "    </tr>\n",
              "    <tr>\n",
              "      <th>8</th>\n",
              "      <td>Age</td>\n",
              "      <td>int64</td>\n",
              "      <td>0</td>\n",
              "      <td>0.0</td>\n",
              "      <td>22</td>\n",
              "      <td>[46, 47]</td>\n",
              "    </tr>\n",
              "    <tr>\n",
              "      <th>9</th>\n",
              "      <td>Work load Average/day</td>\n",
              "      <td>int64</td>\n",
              "      <td>0</td>\n",
              "      <td>0.0</td>\n",
              "      <td>38</td>\n",
              "      <td>[236629, 275089]</td>\n",
              "    </tr>\n",
              "    <tr>\n",
              "      <th>10</th>\n",
              "      <td>Hit target</td>\n",
              "      <td>int64</td>\n",
              "      <td>0</td>\n",
              "      <td>0.0</td>\n",
              "      <td>13</td>\n",
              "      <td>[92, 96]</td>\n",
              "    </tr>\n",
              "    <tr>\n",
              "      <th>11</th>\n",
              "      <td>Disciplinary failure</td>\n",
              "      <td>int64</td>\n",
              "      <td>0</td>\n",
              "      <td>0.0</td>\n",
              "      <td>2</td>\n",
              "      <td>[1, 0]</td>\n",
              "    </tr>\n",
              "    <tr>\n",
              "      <th>12</th>\n",
              "      <td>Education</td>\n",
              "      <td>int64</td>\n",
              "      <td>0</td>\n",
              "      <td>0.0</td>\n",
              "      <td>4</td>\n",
              "      <td>[3, 1]</td>\n",
              "    </tr>\n",
              "    <tr>\n",
              "      <th>13</th>\n",
              "      <td>Son</td>\n",
              "      <td>int64</td>\n",
              "      <td>0</td>\n",
              "      <td>0.0</td>\n",
              "      <td>5</td>\n",
              "      <td>[1, 3]</td>\n",
              "    </tr>\n",
              "    <tr>\n",
              "      <th>14</th>\n",
              "      <td>Social drinker</td>\n",
              "      <td>int64</td>\n",
              "      <td>0</td>\n",
              "      <td>0.0</td>\n",
              "      <td>2</td>\n",
              "      <td>[1, 0]</td>\n",
              "    </tr>\n",
              "    <tr>\n",
              "      <th>15</th>\n",
              "      <td>Social smoker</td>\n",
              "      <td>int64</td>\n",
              "      <td>0</td>\n",
              "      <td>0.0</td>\n",
              "      <td>2</td>\n",
              "      <td>[1, 0]</td>\n",
              "    </tr>\n",
              "    <tr>\n",
              "      <th>16</th>\n",
              "      <td>Pet</td>\n",
              "      <td>int64</td>\n",
              "      <td>0</td>\n",
              "      <td>0.0</td>\n",
              "      <td>6</td>\n",
              "      <td>[4, 8]</td>\n",
              "    </tr>\n",
              "    <tr>\n",
              "      <th>17</th>\n",
              "      <td>Weight</td>\n",
              "      <td>int64</td>\n",
              "      <td>0</td>\n",
              "      <td>0.0</td>\n",
              "      <td>26</td>\n",
              "      <td>[88, 98]</td>\n",
              "    </tr>\n",
              "    <tr>\n",
              "      <th>18</th>\n",
              "      <td>Height</td>\n",
              "      <td>int64</td>\n",
              "      <td>0</td>\n",
              "      <td>0.0</td>\n",
              "      <td>14</td>\n",
              "      <td>[169, 167]</td>\n",
              "    </tr>\n",
              "    <tr>\n",
              "      <th>19</th>\n",
              "      <td>Body mass index</td>\n",
              "      <td>int64</td>\n",
              "      <td>0</td>\n",
              "      <td>0.0</td>\n",
              "      <td>17</td>\n",
              "      <td>[22, 35]</td>\n",
              "    </tr>\n",
              "    <tr>\n",
              "      <th>20</th>\n",
              "      <td>Absenteeism time in hours</td>\n",
              "      <td>int64</td>\n",
              "      <td>0</td>\n",
              "      <td>0.0</td>\n",
              "      <td>19</td>\n",
              "      <td>[64, 2]</td>\n",
              "    </tr>\n",
              "  </tbody>\n",
              "</table>\n",
              "</div>"
            ],
            "text/plain": [
              "                           Features Data_type  Null  Null_percentage  Unique  \\\n",
              "0                                ID     int64     0              0.0      36   \n",
              "1                Reason for absence     int64     0              0.0      28   \n",
              "2                  Month of absence     int64     0              0.0      13   \n",
              "3                   Day of the week     int64     0              0.0       5   \n",
              "4                           Seasons     int64     0              0.0       4   \n",
              "5            Transportation expense     int64     0              0.0      24   \n",
              "6   Distance from Residence to Work     int64     0              0.0      25   \n",
              "7                      Service time     int64     0              0.0      18   \n",
              "8                               Age     int64     0              0.0      22   \n",
              "9            Work load Average/day      int64     0              0.0      38   \n",
              "10                       Hit target     int64     0              0.0      13   \n",
              "11             Disciplinary failure     int64     0              0.0       2   \n",
              "12                        Education     int64     0              0.0       4   \n",
              "13                              Son     int64     0              0.0       5   \n",
              "14                   Social drinker     int64     0              0.0       2   \n",
              "15                    Social smoker     int64     0              0.0       2   \n",
              "16                              Pet     int64     0              0.0       6   \n",
              "17                           Weight     int64     0              0.0      26   \n",
              "18                           Height     int64     0              0.0      14   \n",
              "19                  Body mass index     int64     0              0.0      17   \n",
              "20        Absenteeism time in hours     int64     0              0.0      19   \n",
              "\n",
              "       Unique_sample  \n",
              "0            [35, 6]  \n",
              "1            [15, 3]  \n",
              "2            [10, 6]  \n",
              "3             [3, 2]  \n",
              "4             [1, 2]  \n",
              "5         [361, 157]  \n",
              "6           [51, 20]  \n",
              "7           [10, 17]  \n",
              "8           [46, 47]  \n",
              "9   [236629, 275089]  \n",
              "10          [92, 96]  \n",
              "11            [1, 0]  \n",
              "12            [3, 1]  \n",
              "13            [1, 3]  \n",
              "14            [1, 0]  \n",
              "15            [1, 0]  \n",
              "16            [4, 8]  \n",
              "17          [88, 98]  \n",
              "18        [169, 167]  \n",
              "19          [22, 35]  \n",
              "20           [64, 2]  "
            ]
          },
          "execution_count": 14,
          "metadata": {},
          "output_type": "execute_result"
        }
      ],
      "source": [
        "#Summary data cleaning - figurin out in a table\n",
        "checking = []\n",
        "\n",
        "for i in Data.columns:\n",
        "    checking.append([\n",
        "        i,\n",
        "        Data[i].dtypes,\n",
        "        Data[i].isna().sum(),\n",
        "        round((((Data[i].isna().sum() )/ len(Data)) * 100),2),\n",
        "        Data[i].nunique(),\n",
        "        Data[i].drop_duplicates().sample(2).values\n",
        "    ])\n",
        "pd.DataFrame(data = checking,\n",
        "            columns = [\n",
        "                'Features',\n",
        "                'Data_type',\n",
        "                'Null',\n",
        "                'Null_percentage',\n",
        "                'Unique',\n",
        "                'Unique_sample'\n",
        "            ])"
      ]
    },
    {
      "cell_type": "code",
      "execution_count": 15,
      "metadata": {},
      "outputs": [
        {
          "data": {
            "text/html": [
              "<div>\n",
              "<style scoped>\n",
              "    .dataframe tbody tr th:only-of-type {\n",
              "        vertical-align: middle;\n",
              "    }\n",
              "\n",
              "    .dataframe tbody tr th {\n",
              "        vertical-align: top;\n",
              "    }\n",
              "\n",
              "    .dataframe thead th {\n",
              "        text-align: right;\n",
              "    }\n",
              "</style>\n",
              "<table border=\"1\" class=\"dataframe\">\n",
              "  <thead>\n",
              "    <tr style=\"text-align: right;\">\n",
              "      <th></th>\n",
              "      <th>ID</th>\n",
              "      <th>Reason for absence</th>\n",
              "      <th>Month of absence</th>\n",
              "      <th>Day of the week</th>\n",
              "      <th>Seasons</th>\n",
              "      <th>Transportation expense</th>\n",
              "      <th>Distance from Residence to Work</th>\n",
              "      <th>Service time</th>\n",
              "      <th>Age</th>\n",
              "      <th>Work load Average/day</th>\n",
              "      <th>...</th>\n",
              "      <th>Disciplinary failure</th>\n",
              "      <th>Education</th>\n",
              "      <th>Son</th>\n",
              "      <th>Social drinker</th>\n",
              "      <th>Social smoker</th>\n",
              "      <th>Pet</th>\n",
              "      <th>Weight</th>\n",
              "      <th>Height</th>\n",
              "      <th>Body mass index</th>\n",
              "      <th>Absenteeism time in hours</th>\n",
              "    </tr>\n",
              "  </thead>\n",
              "  <tbody>\n",
              "    <tr>\n",
              "      <th>0</th>\n",
              "      <td>False</td>\n",
              "      <td>False</td>\n",
              "      <td>False</td>\n",
              "      <td>False</td>\n",
              "      <td>False</td>\n",
              "      <td>False</td>\n",
              "      <td>False</td>\n",
              "      <td>False</td>\n",
              "      <td>False</td>\n",
              "      <td>False</td>\n",
              "      <td>...</td>\n",
              "      <td>False</td>\n",
              "      <td>False</td>\n",
              "      <td>False</td>\n",
              "      <td>False</td>\n",
              "      <td>False</td>\n",
              "      <td>False</td>\n",
              "      <td>False</td>\n",
              "      <td>False</td>\n",
              "      <td>False</td>\n",
              "      <td>False</td>\n",
              "    </tr>\n",
              "    <tr>\n",
              "      <th>1</th>\n",
              "      <td>False</td>\n",
              "      <td>False</td>\n",
              "      <td>False</td>\n",
              "      <td>False</td>\n",
              "      <td>False</td>\n",
              "      <td>False</td>\n",
              "      <td>False</td>\n",
              "      <td>False</td>\n",
              "      <td>False</td>\n",
              "      <td>False</td>\n",
              "      <td>...</td>\n",
              "      <td>False</td>\n",
              "      <td>False</td>\n",
              "      <td>False</td>\n",
              "      <td>False</td>\n",
              "      <td>False</td>\n",
              "      <td>False</td>\n",
              "      <td>False</td>\n",
              "      <td>False</td>\n",
              "      <td>False</td>\n",
              "      <td>False</td>\n",
              "    </tr>\n",
              "    <tr>\n",
              "      <th>2</th>\n",
              "      <td>False</td>\n",
              "      <td>False</td>\n",
              "      <td>False</td>\n",
              "      <td>False</td>\n",
              "      <td>False</td>\n",
              "      <td>False</td>\n",
              "      <td>False</td>\n",
              "      <td>False</td>\n",
              "      <td>False</td>\n",
              "      <td>False</td>\n",
              "      <td>...</td>\n",
              "      <td>False</td>\n",
              "      <td>False</td>\n",
              "      <td>False</td>\n",
              "      <td>False</td>\n",
              "      <td>False</td>\n",
              "      <td>False</td>\n",
              "      <td>False</td>\n",
              "      <td>False</td>\n",
              "      <td>False</td>\n",
              "      <td>False</td>\n",
              "    </tr>\n",
              "    <tr>\n",
              "      <th>3</th>\n",
              "      <td>False</td>\n",
              "      <td>False</td>\n",
              "      <td>False</td>\n",
              "      <td>False</td>\n",
              "      <td>False</td>\n",
              "      <td>False</td>\n",
              "      <td>False</td>\n",
              "      <td>False</td>\n",
              "      <td>False</td>\n",
              "      <td>False</td>\n",
              "      <td>...</td>\n",
              "      <td>False</td>\n",
              "      <td>False</td>\n",
              "      <td>False</td>\n",
              "      <td>False</td>\n",
              "      <td>False</td>\n",
              "      <td>False</td>\n",
              "      <td>False</td>\n",
              "      <td>False</td>\n",
              "      <td>False</td>\n",
              "      <td>False</td>\n",
              "    </tr>\n",
              "    <tr>\n",
              "      <th>4</th>\n",
              "      <td>False</td>\n",
              "      <td>False</td>\n",
              "      <td>False</td>\n",
              "      <td>False</td>\n",
              "      <td>False</td>\n",
              "      <td>False</td>\n",
              "      <td>False</td>\n",
              "      <td>False</td>\n",
              "      <td>False</td>\n",
              "      <td>False</td>\n",
              "      <td>...</td>\n",
              "      <td>False</td>\n",
              "      <td>False</td>\n",
              "      <td>False</td>\n",
              "      <td>False</td>\n",
              "      <td>False</td>\n",
              "      <td>False</td>\n",
              "      <td>False</td>\n",
              "      <td>False</td>\n",
              "      <td>False</td>\n",
              "      <td>False</td>\n",
              "    </tr>\n",
              "    <tr>\n",
              "      <th>...</th>\n",
              "      <td>...</td>\n",
              "      <td>...</td>\n",
              "      <td>...</td>\n",
              "      <td>...</td>\n",
              "      <td>...</td>\n",
              "      <td>...</td>\n",
              "      <td>...</td>\n",
              "      <td>...</td>\n",
              "      <td>...</td>\n",
              "      <td>...</td>\n",
              "      <td>...</td>\n",
              "      <td>...</td>\n",
              "      <td>...</td>\n",
              "      <td>...</td>\n",
              "      <td>...</td>\n",
              "      <td>...</td>\n",
              "      <td>...</td>\n",
              "      <td>...</td>\n",
              "      <td>...</td>\n",
              "      <td>...</td>\n",
              "      <td>...</td>\n",
              "    </tr>\n",
              "    <tr>\n",
              "      <th>735</th>\n",
              "      <td>False</td>\n",
              "      <td>False</td>\n",
              "      <td>False</td>\n",
              "      <td>False</td>\n",
              "      <td>False</td>\n",
              "      <td>False</td>\n",
              "      <td>False</td>\n",
              "      <td>False</td>\n",
              "      <td>False</td>\n",
              "      <td>False</td>\n",
              "      <td>...</td>\n",
              "      <td>False</td>\n",
              "      <td>False</td>\n",
              "      <td>False</td>\n",
              "      <td>False</td>\n",
              "      <td>False</td>\n",
              "      <td>False</td>\n",
              "      <td>False</td>\n",
              "      <td>False</td>\n",
              "      <td>False</td>\n",
              "      <td>False</td>\n",
              "    </tr>\n",
              "    <tr>\n",
              "      <th>736</th>\n",
              "      <td>False</td>\n",
              "      <td>False</td>\n",
              "      <td>False</td>\n",
              "      <td>False</td>\n",
              "      <td>False</td>\n",
              "      <td>False</td>\n",
              "      <td>False</td>\n",
              "      <td>False</td>\n",
              "      <td>False</td>\n",
              "      <td>False</td>\n",
              "      <td>...</td>\n",
              "      <td>False</td>\n",
              "      <td>False</td>\n",
              "      <td>False</td>\n",
              "      <td>False</td>\n",
              "      <td>False</td>\n",
              "      <td>False</td>\n",
              "      <td>False</td>\n",
              "      <td>False</td>\n",
              "      <td>False</td>\n",
              "      <td>False</td>\n",
              "    </tr>\n",
              "    <tr>\n",
              "      <th>737</th>\n",
              "      <td>False</td>\n",
              "      <td>False</td>\n",
              "      <td>False</td>\n",
              "      <td>False</td>\n",
              "      <td>False</td>\n",
              "      <td>False</td>\n",
              "      <td>False</td>\n",
              "      <td>False</td>\n",
              "      <td>False</td>\n",
              "      <td>False</td>\n",
              "      <td>...</td>\n",
              "      <td>False</td>\n",
              "      <td>False</td>\n",
              "      <td>False</td>\n",
              "      <td>False</td>\n",
              "      <td>False</td>\n",
              "      <td>False</td>\n",
              "      <td>False</td>\n",
              "      <td>False</td>\n",
              "      <td>False</td>\n",
              "      <td>False</td>\n",
              "    </tr>\n",
              "    <tr>\n",
              "      <th>738</th>\n",
              "      <td>False</td>\n",
              "      <td>False</td>\n",
              "      <td>False</td>\n",
              "      <td>False</td>\n",
              "      <td>False</td>\n",
              "      <td>False</td>\n",
              "      <td>False</td>\n",
              "      <td>False</td>\n",
              "      <td>False</td>\n",
              "      <td>False</td>\n",
              "      <td>...</td>\n",
              "      <td>False</td>\n",
              "      <td>False</td>\n",
              "      <td>False</td>\n",
              "      <td>False</td>\n",
              "      <td>False</td>\n",
              "      <td>False</td>\n",
              "      <td>False</td>\n",
              "      <td>False</td>\n",
              "      <td>False</td>\n",
              "      <td>False</td>\n",
              "    </tr>\n",
              "    <tr>\n",
              "      <th>739</th>\n",
              "      <td>False</td>\n",
              "      <td>False</td>\n",
              "      <td>False</td>\n",
              "      <td>False</td>\n",
              "      <td>False</td>\n",
              "      <td>False</td>\n",
              "      <td>False</td>\n",
              "      <td>False</td>\n",
              "      <td>False</td>\n",
              "      <td>False</td>\n",
              "      <td>...</td>\n",
              "      <td>False</td>\n",
              "      <td>False</td>\n",
              "      <td>False</td>\n",
              "      <td>False</td>\n",
              "      <td>False</td>\n",
              "      <td>False</td>\n",
              "      <td>False</td>\n",
              "      <td>False</td>\n",
              "      <td>False</td>\n",
              "      <td>False</td>\n",
              "    </tr>\n",
              "  </tbody>\n",
              "</table>\n",
              "<p>740 rows × 21 columns</p>\n",
              "</div>"
            ],
            "text/plain": [
              "        ID  Reason for absence  Month of absence  Day of the week  Seasons  \\\n",
              "0    False               False             False            False    False   \n",
              "1    False               False             False            False    False   \n",
              "2    False               False             False            False    False   \n",
              "3    False               False             False            False    False   \n",
              "4    False               False             False            False    False   \n",
              "..     ...                 ...               ...              ...      ...   \n",
              "735  False               False             False            False    False   \n",
              "736  False               False             False            False    False   \n",
              "737  False               False             False            False    False   \n",
              "738  False               False             False            False    False   \n",
              "739  False               False             False            False    False   \n",
              "\n",
              "     Transportation expense  Distance from Residence to Work  Service time  \\\n",
              "0                     False                            False         False   \n",
              "1                     False                            False         False   \n",
              "2                     False                            False         False   \n",
              "3                     False                            False         False   \n",
              "4                     False                            False         False   \n",
              "..                      ...                              ...           ...   \n",
              "735                   False                            False         False   \n",
              "736                   False                            False         False   \n",
              "737                   False                            False         False   \n",
              "738                   False                            False         False   \n",
              "739                   False                            False         False   \n",
              "\n",
              "       Age  Work load Average/day   ...  Disciplinary failure  Education  \\\n",
              "0    False                   False  ...                 False      False   \n",
              "1    False                   False  ...                 False      False   \n",
              "2    False                   False  ...                 False      False   \n",
              "3    False                   False  ...                 False      False   \n",
              "4    False                   False  ...                 False      False   \n",
              "..     ...                     ...  ...                   ...        ...   \n",
              "735  False                   False  ...                 False      False   \n",
              "736  False                   False  ...                 False      False   \n",
              "737  False                   False  ...                 False      False   \n",
              "738  False                   False  ...                 False      False   \n",
              "739  False                   False  ...                 False      False   \n",
              "\n",
              "       Son  Social drinker  Social smoker    Pet  Weight  Height  \\\n",
              "0    False           False          False  False   False   False   \n",
              "1    False           False          False  False   False   False   \n",
              "2    False           False          False  False   False   False   \n",
              "3    False           False          False  False   False   False   \n",
              "4    False           False          False  False   False   False   \n",
              "..     ...             ...            ...    ...     ...     ...   \n",
              "735  False           False          False  False   False   False   \n",
              "736  False           False          False  False   False   False   \n",
              "737  False           False          False  False   False   False   \n",
              "738  False           False          False  False   False   False   \n",
              "739  False           False          False  False   False   False   \n",
              "\n",
              "     Body mass index  Absenteeism time in hours  \n",
              "0              False                      False  \n",
              "1              False                      False  \n",
              "2              False                      False  \n",
              "3              False                      False  \n",
              "4              False                      False  \n",
              "..               ...                        ...  \n",
              "735            False                      False  \n",
              "736            False                      False  \n",
              "737            False                      False  \n",
              "738            False                      False  \n",
              "739            False                      False  \n",
              "\n",
              "[740 rows x 21 columns]"
            ]
          },
          "execution_count": 15,
          "metadata": {},
          "output_type": "execute_result"
        }
      ],
      "source": [
        "Data.isna()"
      ]
    },
    {
      "cell_type": "code",
      "execution_count": 16,
      "metadata": {},
      "outputs": [
        {
          "data": {
            "text/plain": [
              "<AxesSubplot:>"
            ]
          },
          "execution_count": 16,
          "metadata": {},
          "output_type": "execute_result"
        },
        {
          "data": {
            "image/png": "[encoded data removed]",
            "text/plain": [
              "<Figure size 432x288 with 2 Axes>"
            ]
          },
          "metadata": {
            "needs_background": "light"
          },
          "output_type": "display_data"
        }
      ],
      "source": [
        "sns.heatmap(Data.isnull())"
      ]
    },
    {
      "cell_type": "markdown",
      "metadata": {},
      "source": [
        "As seen in the above summary there are no null values and there will be no steps to impute or delete some rows or columns"
      ]
    },
    {
      "cell_type": "markdown",
      "metadata": {},
      "source": [
        "# Exploratory Data analysis"
      ]
    },
    {
      "cell_type": "code",
      "execution_count": 17,
      "metadata": {},
      "outputs": [
        {
          "name": "stdout",
          "output_type": "stream",
          "text": [
            "===============Column: ID==============\n",
            "Number of unique values: 36\n",
            "Max: 36\n",
            "Min: 1\n",
            "===============Column: Reason for absence==============\n",
            "Number of unique values: 28\n",
            "Max: 28\n",
            "Min: 0\n",
            "===============Column: Month of absence==============\n",
            "Number of unique values: 13\n",
            "Max: 12\n",
            "Min: 0\n",
            "===============Column: Day of the week==============\n",
            "Number of unique values: 5\n",
            "Max: 6\n",
            "Min: 2\n",
            "===============Column: Seasons==============\n",
            "Number of unique values: 4\n",
            "Max: 4\n",
            "Min: 1\n",
            "===============Column: Transportation expense==============\n",
            "Number of unique values: 24\n",
            "Max: 388\n",
            "Min: 118\n",
            "===============Column: Distance from Residence to Work==============\n",
            "Number of unique values: 25\n",
            "Max: 52\n",
            "Min: 5\n",
            "===============Column: Service time==============\n",
            "Number of unique values: 18\n",
            "Max: 29\n",
            "Min: 1\n",
            "===============Column: Age==============\n",
            "Number of unique values: 22\n",
            "Max: 58\n",
            "Min: 27\n",
            "===============Column: Work load Average/day ==============\n",
            "Number of unique values: 38\n",
            "Max: 378884\n",
            "Min: 205917\n",
            "===============Column: Hit target==============\n",
            "Number of unique values: 13\n",
            "Max: 100\n",
            "Min: 81\n",
            "===============Column: Disciplinary failure==============\n",
            "Number of unique values: 2\n",
            "Max: 1\n",
            "Min: 0\n",
            "===============Column: Education==============\n",
            "Number of unique values: 4\n",
            "Max: 4\n",
            "Min: 1\n",
            "===============Column: Son==============\n",
            "Number of unique values: 5\n",
            "Max: 4\n",
            "Min: 0\n",
            "===============Column: Social drinker==============\n",
            "Number of unique values: 2\n",
            "Max: 1\n",
            "Min: 0\n",
            "===============Column: Social smoker==============\n",
            "Number of unique values: 2\n",
            "Max: 1\n",
            "Min: 0\n",
            "===============Column: Pet==============\n",
            "Number of unique values: 6\n",
            "Max: 8\n",
            "Min: 0\n",
            "===============Column: Weight==============\n",
            "Number of unique values: 26\n",
            "Max: 108\n",
            "Min: 56\n",
            "===============Column: Height==============\n",
            "Number of unique values: 14\n",
            "Max: 196\n",
            "Min: 163\n",
            "===============Column: Body mass index==============\n",
            "Number of unique values: 17\n",
            "Max: 38\n",
            "Min: 19\n",
            "===============Column: Absenteeism time in hours==============\n",
            "Number of unique values: 19\n",
            "Max: 120\n",
            "Min: 0\n"
          ]
        }
      ],
      "source": [
        "#Get the unique values values with their maximum and minimum \n",
        "for column in Data.columns:\n",
        "    print(f\"===============Column: {column}==============\")\n",
        "    print(f\"Number of unique values: {Data[column].nunique()}\")\n",
        "    print(f\"Max: {Data[column].max()}\")\n",
        "    print(f\"Min: {Data[column].min()}\")"
      ]
    },
    {
      "cell_type": "code",
      "execution_count": 18,
      "metadata": {},
      "outputs": [
        {
          "name": "stdout",
          "output_type": "stream",
          "text": [
            "The shape of the data is:(740, 21)\n"
          ]
        }
      ],
      "source": [
        "#shape of the data set\n",
        "print(\"The shape of the data is:{}\" .format(Data.shape))"
      ]
    },
    {
      "cell_type": "code",
      "execution_count": 19,
      "metadata": {},
      "outputs": [
        {
          "name": "stdout",
          "output_type": "stream",
          "text": [
            "Data types of the data set is:ID                                 int64\n",
            "Reason for absence                 int64\n",
            "Month of absence                   int64\n",
            "Day of the week                    int64\n",
            "Seasons                            int64\n",
            "Transportation expense             int64\n",
            "Distance from Residence to Work    int64\n",
            "Service time                       int64\n",
            "Age                                int64\n",
            "Work load Average/day              int64\n",
            "Hit target                         int64\n",
            "Disciplinary failure               int64\n",
            "Education                          int64\n",
            "Son                                int64\n",
            "Social drinker                     int64\n",
            "Social smoker                      int64\n",
            "Pet                                int64\n",
            "Weight                             int64\n",
            "Height                             int64\n",
            "Body mass index                    int64\n",
            "Absenteeism time in hours          int64\n",
            "dtype: object\n"
          ]
        }
      ],
      "source": [
        "#Data types\n",
        "print('Data types of the data set is:{}'.format(Data.dtypes))"
      ]
    },
    {
      "cell_type": "code",
      "execution_count": 20,
      "metadata": {},
      "outputs": [
        {
          "data": {
            "text/plain": [
              "34"
            ]
          },
          "execution_count": 20,
          "metadata": {},
          "output_type": "execute_result"
        }
      ],
      "source": [
        "#Duplicated values\n",
        "Data.duplicated().sum()"
      ]
    },
    {
      "cell_type": "code",
      "execution_count": 21,
      "metadata": {},
      "outputs": [
        {
          "data": {
            "text/html": [
              "<div>\n",
              "<style scoped>\n",
              "    .dataframe tbody tr th:only-of-type {\n",
              "        vertical-align: middle;\n",
              "    }\n",
              "\n",
              "    .dataframe tbody tr th {\n",
              "        vertical-align: top;\n",
              "    }\n",
              "\n",
              "    .dataframe thead th {\n",
              "        text-align: right;\n",
              "    }\n",
              "</style>\n",
              "<table border=\"1\" class=\"dataframe\">\n",
              "  <thead>\n",
              "    <tr style=\"text-align: right;\">\n",
              "      <th></th>\n",
              "      <th>ID</th>\n",
              "      <th>Reason for absence</th>\n",
              "      <th>Month of absence</th>\n",
              "      <th>Day of the week</th>\n",
              "      <th>Seasons</th>\n",
              "      <th>Transportation expense</th>\n",
              "      <th>Distance from Residence to Work</th>\n",
              "      <th>Service time</th>\n",
              "      <th>Age</th>\n",
              "      <th>Work load Average/day</th>\n",
              "      <th>...</th>\n",
              "      <th>Disciplinary failure</th>\n",
              "      <th>Education</th>\n",
              "      <th>Son</th>\n",
              "      <th>Social drinker</th>\n",
              "      <th>Social smoker</th>\n",
              "      <th>Pet</th>\n",
              "      <th>Weight</th>\n",
              "      <th>Height</th>\n",
              "      <th>Body mass index</th>\n",
              "      <th>Absenteeism time in hours</th>\n",
              "    </tr>\n",
              "  </thead>\n",
              "  <tbody>\n",
              "    <tr>\n",
              "      <th>16</th>\n",
              "      <td>3</td>\n",
              "      <td>23</td>\n",
              "      <td>7</td>\n",
              "      <td>6</td>\n",
              "      <td>1</td>\n",
              "      <td>179</td>\n",
              "      <td>51</td>\n",
              "      <td>18</td>\n",
              "      <td>38</td>\n",
              "      <td>239554</td>\n",
              "      <td>...</td>\n",
              "      <td>0</td>\n",
              "      <td>1</td>\n",
              "      <td>0</td>\n",
              "      <td>1</td>\n",
              "      <td>0</td>\n",
              "      <td>0</td>\n",
              "      <td>89</td>\n",
              "      <td>170</td>\n",
              "      <td>31</td>\n",
              "      <td>2</td>\n",
              "    </tr>\n",
              "    <tr>\n",
              "      <th>68</th>\n",
              "      <td>34</td>\n",
              "      <td>23</td>\n",
              "      <td>10</td>\n",
              "      <td>3</td>\n",
              "      <td>4</td>\n",
              "      <td>118</td>\n",
              "      <td>10</td>\n",
              "      <td>10</td>\n",
              "      <td>37</td>\n",
              "      <td>253465</td>\n",
              "      <td>...</td>\n",
              "      <td>0</td>\n",
              "      <td>1</td>\n",
              "      <td>0</td>\n",
              "      <td>0</td>\n",
              "      <td>0</td>\n",
              "      <td>0</td>\n",
              "      <td>83</td>\n",
              "      <td>172</td>\n",
              "      <td>28</td>\n",
              "      <td>3</td>\n",
              "    </tr>\n",
              "    <tr>\n",
              "      <th>88</th>\n",
              "      <td>28</td>\n",
              "      <td>23</td>\n",
              "      <td>11</td>\n",
              "      <td>4</td>\n",
              "      <td>4</td>\n",
              "      <td>225</td>\n",
              "      <td>26</td>\n",
              "      <td>9</td>\n",
              "      <td>28</td>\n",
              "      <td>306345</td>\n",
              "      <td>...</td>\n",
              "      <td>0</td>\n",
              "      <td>1</td>\n",
              "      <td>1</td>\n",
              "      <td>0</td>\n",
              "      <td>0</td>\n",
              "      <td>2</td>\n",
              "      <td>69</td>\n",
              "      <td>169</td>\n",
              "      <td>24</td>\n",
              "      <td>1</td>\n",
              "    </tr>\n",
              "    <tr>\n",
              "      <th>109</th>\n",
              "      <td>10</td>\n",
              "      <td>22</td>\n",
              "      <td>12</td>\n",
              "      <td>4</td>\n",
              "      <td>4</td>\n",
              "      <td>361</td>\n",
              "      <td>52</td>\n",
              "      <td>3</td>\n",
              "      <td>28</td>\n",
              "      <td>261306</td>\n",
              "      <td>...</td>\n",
              "      <td>0</td>\n",
              "      <td>1</td>\n",
              "      <td>1</td>\n",
              "      <td>1</td>\n",
              "      <td>0</td>\n",
              "      <td>4</td>\n",
              "      <td>80</td>\n",
              "      <td>172</td>\n",
              "      <td>27</td>\n",
              "      <td>8</td>\n",
              "    </tr>\n",
              "    <tr>\n",
              "      <th>127</th>\n",
              "      <td>34</td>\n",
              "      <td>27</td>\n",
              "      <td>1</td>\n",
              "      <td>2</td>\n",
              "      <td>2</td>\n",
              "      <td>118</td>\n",
              "      <td>10</td>\n",
              "      <td>10</td>\n",
              "      <td>37</td>\n",
              "      <td>308593</td>\n",
              "      <td>...</td>\n",
              "      <td>0</td>\n",
              "      <td>1</td>\n",
              "      <td>0</td>\n",
              "      <td>0</td>\n",
              "      <td>0</td>\n",
              "      <td>0</td>\n",
              "      <td>83</td>\n",
              "      <td>172</td>\n",
              "      <td>28</td>\n",
              "      <td>2</td>\n",
              "    </tr>\n",
              "    <tr>\n",
              "      <th>128</th>\n",
              "      <td>34</td>\n",
              "      <td>27</td>\n",
              "      <td>1</td>\n",
              "      <td>3</td>\n",
              "      <td>2</td>\n",
              "      <td>118</td>\n",
              "      <td>10</td>\n",
              "      <td>10</td>\n",
              "      <td>37</td>\n",
              "      <td>308593</td>\n",
              "      <td>...</td>\n",
              "      <td>0</td>\n",
              "      <td>1</td>\n",
              "      <td>0</td>\n",
              "      <td>0</td>\n",
              "      <td>0</td>\n",
              "      <td>0</td>\n",
              "      <td>83</td>\n",
              "      <td>172</td>\n",
              "      <td>28</td>\n",
              "      <td>2</td>\n",
              "    </tr>\n",
              "    <tr>\n",
              "      <th>131</th>\n",
              "      <td>34</td>\n",
              "      <td>27</td>\n",
              "      <td>1</td>\n",
              "      <td>4</td>\n",
              "      <td>2</td>\n",
              "      <td>118</td>\n",
              "      <td>10</td>\n",
              "      <td>10</td>\n",
              "      <td>37</td>\n",
              "      <td>308593</td>\n",
              "      <td>...</td>\n",
              "      <td>0</td>\n",
              "      <td>1</td>\n",
              "      <td>0</td>\n",
              "      <td>0</td>\n",
              "      <td>0</td>\n",
              "      <td>0</td>\n",
              "      <td>83</td>\n",
              "      <td>172</td>\n",
              "      <td>28</td>\n",
              "      <td>2</td>\n",
              "    </tr>\n",
              "    <tr>\n",
              "      <th>132</th>\n",
              "      <td>27</td>\n",
              "      <td>23</td>\n",
              "      <td>1</td>\n",
              "      <td>5</td>\n",
              "      <td>2</td>\n",
              "      <td>184</td>\n",
              "      <td>42</td>\n",
              "      <td>7</td>\n",
              "      <td>27</td>\n",
              "      <td>308593</td>\n",
              "      <td>...</td>\n",
              "      <td>0</td>\n",
              "      <td>1</td>\n",
              "      <td>0</td>\n",
              "      <td>0</td>\n",
              "      <td>0</td>\n",
              "      <td>0</td>\n",
              "      <td>58</td>\n",
              "      <td>167</td>\n",
              "      <td>21</td>\n",
              "      <td>2</td>\n",
              "    </tr>\n",
              "    <tr>\n",
              "      <th>133</th>\n",
              "      <td>34</td>\n",
              "      <td>27</td>\n",
              "      <td>1</td>\n",
              "      <td>5</td>\n",
              "      <td>2</td>\n",
              "      <td>118</td>\n",
              "      <td>10</td>\n",
              "      <td>10</td>\n",
              "      <td>37</td>\n",
              "      <td>308593</td>\n",
              "      <td>...</td>\n",
              "      <td>0</td>\n",
              "      <td>1</td>\n",
              "      <td>0</td>\n",
              "      <td>0</td>\n",
              "      <td>0</td>\n",
              "      <td>0</td>\n",
              "      <td>83</td>\n",
              "      <td>172</td>\n",
              "      <td>28</td>\n",
              "      <td>2</td>\n",
              "    </tr>\n",
              "    <tr>\n",
              "      <th>305</th>\n",
              "      <td>5</td>\n",
              "      <td>23</td>\n",
              "      <td>10</td>\n",
              "      <td>2</td>\n",
              "      <td>4</td>\n",
              "      <td>235</td>\n",
              "      <td>20</td>\n",
              "      <td>13</td>\n",
              "      <td>43</td>\n",
              "      <td>265017</td>\n",
              "      <td>...</td>\n",
              "      <td>0</td>\n",
              "      <td>1</td>\n",
              "      <td>1</td>\n",
              "      <td>1</td>\n",
              "      <td>0</td>\n",
              "      <td>0</td>\n",
              "      <td>106</td>\n",
              "      <td>167</td>\n",
              "      <td>38</td>\n",
              "      <td>2</td>\n",
              "    </tr>\n",
              "    <tr>\n",
              "      <th>351</th>\n",
              "      <td>3</td>\n",
              "      <td>28</td>\n",
              "      <td>12</td>\n",
              "      <td>6</td>\n",
              "      <td>4</td>\n",
              "      <td>179</td>\n",
              "      <td>51</td>\n",
              "      <td>18</td>\n",
              "      <td>38</td>\n",
              "      <td>236629</td>\n",
              "      <td>...</td>\n",
              "      <td>0</td>\n",
              "      <td>1</td>\n",
              "      <td>0</td>\n",
              "      <td>1</td>\n",
              "      <td>0</td>\n",
              "      <td>0</td>\n",
              "      <td>89</td>\n",
              "      <td>170</td>\n",
              "      <td>31</td>\n",
              "      <td>1</td>\n",
              "    </tr>\n",
              "    <tr>\n",
              "      <th>376</th>\n",
              "      <td>3</td>\n",
              "      <td>27</td>\n",
              "      <td>2</td>\n",
              "      <td>4</td>\n",
              "      <td>2</td>\n",
              "      <td>179</td>\n",
              "      <td>51</td>\n",
              "      <td>18</td>\n",
              "      <td>38</td>\n",
              "      <td>251818</td>\n",
              "      <td>...</td>\n",
              "      <td>0</td>\n",
              "      <td>1</td>\n",
              "      <td>0</td>\n",
              "      <td>1</td>\n",
              "      <td>0</td>\n",
              "      <td>0</td>\n",
              "      <td>89</td>\n",
              "      <td>170</td>\n",
              "      <td>31</td>\n",
              "      <td>3</td>\n",
              "    </tr>\n",
              "    <tr>\n",
              "      <th>385</th>\n",
              "      <td>3</td>\n",
              "      <td>27</td>\n",
              "      <td>2</td>\n",
              "      <td>4</td>\n",
              "      <td>2</td>\n",
              "      <td>179</td>\n",
              "      <td>51</td>\n",
              "      <td>18</td>\n",
              "      <td>38</td>\n",
              "      <td>251818</td>\n",
              "      <td>...</td>\n",
              "      <td>0</td>\n",
              "      <td>1</td>\n",
              "      <td>0</td>\n",
              "      <td>1</td>\n",
              "      <td>0</td>\n",
              "      <td>0</td>\n",
              "      <td>89</td>\n",
              "      <td>170</td>\n",
              "      <td>31</td>\n",
              "      <td>3</td>\n",
              "    </tr>\n",
              "    <tr>\n",
              "      <th>386</th>\n",
              "      <td>3</td>\n",
              "      <td>27</td>\n",
              "      <td>2</td>\n",
              "      <td>6</td>\n",
              "      <td>2</td>\n",
              "      <td>179</td>\n",
              "      <td>51</td>\n",
              "      <td>18</td>\n",
              "      <td>38</td>\n",
              "      <td>251818</td>\n",
              "      <td>...</td>\n",
              "      <td>0</td>\n",
              "      <td>1</td>\n",
              "      <td>0</td>\n",
              "      <td>1</td>\n",
              "      <td>0</td>\n",
              "      <td>0</td>\n",
              "      <td>89</td>\n",
              "      <td>170</td>\n",
              "      <td>31</td>\n",
              "      <td>3</td>\n",
              "    </tr>\n",
              "    <tr>\n",
              "      <th>388</th>\n",
              "      <td>3</td>\n",
              "      <td>27</td>\n",
              "      <td>2</td>\n",
              "      <td>4</td>\n",
              "      <td>2</td>\n",
              "      <td>179</td>\n",
              "      <td>51</td>\n",
              "      <td>18</td>\n",
              "      <td>38</td>\n",
              "      <td>251818</td>\n",
              "      <td>...</td>\n",
              "      <td>0</td>\n",
              "      <td>1</td>\n",
              "      <td>0</td>\n",
              "      <td>1</td>\n",
              "      <td>0</td>\n",
              "      <td>0</td>\n",
              "      <td>89</td>\n",
              "      <td>170</td>\n",
              "      <td>31</td>\n",
              "      <td>3</td>\n",
              "    </tr>\n",
              "    <tr>\n",
              "      <th>389</th>\n",
              "      <td>3</td>\n",
              "      <td>27</td>\n",
              "      <td>2</td>\n",
              "      <td>6</td>\n",
              "      <td>2</td>\n",
              "      <td>179</td>\n",
              "      <td>51</td>\n",
              "      <td>18</td>\n",
              "      <td>38</td>\n",
              "      <td>251818</td>\n",
              "      <td>...</td>\n",
              "      <td>0</td>\n",
              "      <td>1</td>\n",
              "      <td>0</td>\n",
              "      <td>1</td>\n",
              "      <td>0</td>\n",
              "      <td>0</td>\n",
              "      <td>89</td>\n",
              "      <td>170</td>\n",
              "      <td>31</td>\n",
              "      <td>3</td>\n",
              "    </tr>\n",
              "    <tr>\n",
              "      <th>440</th>\n",
              "      <td>22</td>\n",
              "      <td>23</td>\n",
              "      <td>5</td>\n",
              "      <td>4</td>\n",
              "      <td>3</td>\n",
              "      <td>179</td>\n",
              "      <td>26</td>\n",
              "      <td>9</td>\n",
              "      <td>30</td>\n",
              "      <td>246074</td>\n",
              "      <td>...</td>\n",
              "      <td>0</td>\n",
              "      <td>3</td>\n",
              "      <td>0</td>\n",
              "      <td>0</td>\n",
              "      <td>0</td>\n",
              "      <td>0</td>\n",
              "      <td>56</td>\n",
              "      <td>171</td>\n",
              "      <td>19</td>\n",
              "      <td>3</td>\n",
              "    </tr>\n",
              "    <tr>\n",
              "      <th>477</th>\n",
              "      <td>24</td>\n",
              "      <td>28</td>\n",
              "      <td>7</td>\n",
              "      <td>3</td>\n",
              "      <td>1</td>\n",
              "      <td>246</td>\n",
              "      <td>25</td>\n",
              "      <td>16</td>\n",
              "      <td>41</td>\n",
              "      <td>230290</td>\n",
              "      <td>...</td>\n",
              "      <td>0</td>\n",
              "      <td>1</td>\n",
              "      <td>0</td>\n",
              "      <td>1</td>\n",
              "      <td>0</td>\n",
              "      <td>0</td>\n",
              "      <td>67</td>\n",
              "      <td>170</td>\n",
              "      <td>23</td>\n",
              "      <td>2</td>\n",
              "    </tr>\n",
              "    <tr>\n",
              "      <th>496</th>\n",
              "      <td>24</td>\n",
              "      <td>28</td>\n",
              "      <td>9</td>\n",
              "      <td>3</td>\n",
              "      <td>1</td>\n",
              "      <td>246</td>\n",
              "      <td>25</td>\n",
              "      <td>16</td>\n",
              "      <td>41</td>\n",
              "      <td>261756</td>\n",
              "      <td>...</td>\n",
              "      <td>0</td>\n",
              "      <td>1</td>\n",
              "      <td>0</td>\n",
              "      <td>1</td>\n",
              "      <td>0</td>\n",
              "      <td>0</td>\n",
              "      <td>67</td>\n",
              "      <td>170</td>\n",
              "      <td>23</td>\n",
              "      <td>1</td>\n",
              "    </tr>\n",
              "    <tr>\n",
              "      <th>560</th>\n",
              "      <td>28</td>\n",
              "      <td>23</td>\n",
              "      <td>12</td>\n",
              "      <td>4</td>\n",
              "      <td>4</td>\n",
              "      <td>225</td>\n",
              "      <td>26</td>\n",
              "      <td>9</td>\n",
              "      <td>28</td>\n",
              "      <td>280549</td>\n",
              "      <td>...</td>\n",
              "      <td>0</td>\n",
              "      <td>1</td>\n",
              "      <td>1</td>\n",
              "      <td>0</td>\n",
              "      <td>0</td>\n",
              "      <td>2</td>\n",
              "      <td>69</td>\n",
              "      <td>169</td>\n",
              "      <td>24</td>\n",
              "      <td>3</td>\n",
              "    </tr>\n",
              "    <tr>\n",
              "      <th>605</th>\n",
              "      <td>3</td>\n",
              "      <td>27</td>\n",
              "      <td>2</td>\n",
              "      <td>4</td>\n",
              "      <td>2</td>\n",
              "      <td>179</td>\n",
              "      <td>51</td>\n",
              "      <td>18</td>\n",
              "      <td>38</td>\n",
              "      <td>264249</td>\n",
              "      <td>...</td>\n",
              "      <td>0</td>\n",
              "      <td>1</td>\n",
              "      <td>0</td>\n",
              "      <td>1</td>\n",
              "      <td>0</td>\n",
              "      <td>0</td>\n",
              "      <td>89</td>\n",
              "      <td>170</td>\n",
              "      <td>31</td>\n",
              "      <td>2</td>\n",
              "    </tr>\n",
              "    <tr>\n",
              "      <th>607</th>\n",
              "      <td>3</td>\n",
              "      <td>27</td>\n",
              "      <td>2</td>\n",
              "      <td>6</td>\n",
              "      <td>2</td>\n",
              "      <td>179</td>\n",
              "      <td>51</td>\n",
              "      <td>18</td>\n",
              "      <td>38</td>\n",
              "      <td>264249</td>\n",
              "      <td>...</td>\n",
              "      <td>0</td>\n",
              "      <td>1</td>\n",
              "      <td>0</td>\n",
              "      <td>1</td>\n",
              "      <td>0</td>\n",
              "      <td>0</td>\n",
              "      <td>89</td>\n",
              "      <td>170</td>\n",
              "      <td>31</td>\n",
              "      <td>2</td>\n",
              "    </tr>\n",
              "    <tr>\n",
              "      <th>610</th>\n",
              "      <td>3</td>\n",
              "      <td>27</td>\n",
              "      <td>2</td>\n",
              "      <td>2</td>\n",
              "      <td>2</td>\n",
              "      <td>179</td>\n",
              "      <td>51</td>\n",
              "      <td>18</td>\n",
              "      <td>38</td>\n",
              "      <td>264249</td>\n",
              "      <td>...</td>\n",
              "      <td>0</td>\n",
              "      <td>1</td>\n",
              "      <td>0</td>\n",
              "      <td>1</td>\n",
              "      <td>0</td>\n",
              "      <td>0</td>\n",
              "      <td>89</td>\n",
              "      <td>170</td>\n",
              "      <td>31</td>\n",
              "      <td>2</td>\n",
              "    </tr>\n",
              "    <tr>\n",
              "      <th>615</th>\n",
              "      <td>3</td>\n",
              "      <td>27</td>\n",
              "      <td>2</td>\n",
              "      <td>4</td>\n",
              "      <td>2</td>\n",
              "      <td>179</td>\n",
              "      <td>51</td>\n",
              "      <td>18</td>\n",
              "      <td>38</td>\n",
              "      <td>264249</td>\n",
              "      <td>...</td>\n",
              "      <td>0</td>\n",
              "      <td>1</td>\n",
              "      <td>0</td>\n",
              "      <td>1</td>\n",
              "      <td>0</td>\n",
              "      <td>0</td>\n",
              "      <td>89</td>\n",
              "      <td>170</td>\n",
              "      <td>31</td>\n",
              "      <td>2</td>\n",
              "    </tr>\n",
              "    <tr>\n",
              "      <th>616</th>\n",
              "      <td>3</td>\n",
              "      <td>27</td>\n",
              "      <td>2</td>\n",
              "      <td>5</td>\n",
              "      <td>2</td>\n",
              "      <td>179</td>\n",
              "      <td>51</td>\n",
              "      <td>18</td>\n",
              "      <td>38</td>\n",
              "      <td>264249</td>\n",
              "      <td>...</td>\n",
              "      <td>0</td>\n",
              "      <td>1</td>\n",
              "      <td>0</td>\n",
              "      <td>1</td>\n",
              "      <td>0</td>\n",
              "      <td>0</td>\n",
              "      <td>89</td>\n",
              "      <td>170</td>\n",
              "      <td>31</td>\n",
              "      <td>2</td>\n",
              "    </tr>\n",
              "    <tr>\n",
              "      <th>631</th>\n",
              "      <td>3</td>\n",
              "      <td>27</td>\n",
              "      <td>3</td>\n",
              "      <td>4</td>\n",
              "      <td>2</td>\n",
              "      <td>179</td>\n",
              "      <td>51</td>\n",
              "      <td>18</td>\n",
              "      <td>38</td>\n",
              "      <td>222196</td>\n",
              "      <td>...</td>\n",
              "      <td>0</td>\n",
              "      <td>1</td>\n",
              "      <td>0</td>\n",
              "      <td>1</td>\n",
              "      <td>0</td>\n",
              "      <td>0</td>\n",
              "      <td>89</td>\n",
              "      <td>170</td>\n",
              "      <td>31</td>\n",
              "      <td>2</td>\n",
              "    </tr>\n",
              "    <tr>\n",
              "      <th>632</th>\n",
              "      <td>3</td>\n",
              "      <td>27</td>\n",
              "      <td>3</td>\n",
              "      <td>5</td>\n",
              "      <td>2</td>\n",
              "      <td>179</td>\n",
              "      <td>51</td>\n",
              "      <td>18</td>\n",
              "      <td>38</td>\n",
              "      <td>222196</td>\n",
              "      <td>...</td>\n",
              "      <td>0</td>\n",
              "      <td>1</td>\n",
              "      <td>0</td>\n",
              "      <td>1</td>\n",
              "      <td>0</td>\n",
              "      <td>0</td>\n",
              "      <td>89</td>\n",
              "      <td>170</td>\n",
              "      <td>31</td>\n",
              "      <td>3</td>\n",
              "    </tr>\n",
              "    <tr>\n",
              "      <th>641</th>\n",
              "      <td>3</td>\n",
              "      <td>27</td>\n",
              "      <td>3</td>\n",
              "      <td>4</td>\n",
              "      <td>2</td>\n",
              "      <td>179</td>\n",
              "      <td>51</td>\n",
              "      <td>18</td>\n",
              "      <td>38</td>\n",
              "      <td>222196</td>\n",
              "      <td>...</td>\n",
              "      <td>0</td>\n",
              "      <td>1</td>\n",
              "      <td>0</td>\n",
              "      <td>1</td>\n",
              "      <td>0</td>\n",
              "      <td>0</td>\n",
              "      <td>89</td>\n",
              "      <td>170</td>\n",
              "      <td>31</td>\n",
              "      <td>2</td>\n",
              "    </tr>\n",
              "    <tr>\n",
              "      <th>643</th>\n",
              "      <td>3</td>\n",
              "      <td>27</td>\n",
              "      <td>3</td>\n",
              "      <td>5</td>\n",
              "      <td>2</td>\n",
              "      <td>179</td>\n",
              "      <td>51</td>\n",
              "      <td>18</td>\n",
              "      <td>38</td>\n",
              "      <td>222196</td>\n",
              "      <td>...</td>\n",
              "      <td>0</td>\n",
              "      <td>1</td>\n",
              "      <td>0</td>\n",
              "      <td>1</td>\n",
              "      <td>0</td>\n",
              "      <td>0</td>\n",
              "      <td>89</td>\n",
              "      <td>170</td>\n",
              "      <td>31</td>\n",
              "      <td>3</td>\n",
              "    </tr>\n",
              "    <tr>\n",
              "      <th>666</th>\n",
              "      <td>22</td>\n",
              "      <td>27</td>\n",
              "      <td>4</td>\n",
              "      <td>6</td>\n",
              "      <td>3</td>\n",
              "      <td>179</td>\n",
              "      <td>26</td>\n",
              "      <td>9</td>\n",
              "      <td>30</td>\n",
              "      <td>246288</td>\n",
              "      <td>...</td>\n",
              "      <td>0</td>\n",
              "      <td>3</td>\n",
              "      <td>0</td>\n",
              "      <td>0</td>\n",
              "      <td>0</td>\n",
              "      <td>0</td>\n",
              "      <td>56</td>\n",
              "      <td>171</td>\n",
              "      <td>19</td>\n",
              "      <td>2</td>\n",
              "    </tr>\n",
              "    <tr>\n",
              "      <th>669</th>\n",
              "      <td>22</td>\n",
              "      <td>27</td>\n",
              "      <td>4</td>\n",
              "      <td>6</td>\n",
              "      <td>3</td>\n",
              "      <td>179</td>\n",
              "      <td>26</td>\n",
              "      <td>9</td>\n",
              "      <td>30</td>\n",
              "      <td>246288</td>\n",
              "      <td>...</td>\n",
              "      <td>0</td>\n",
              "      <td>3</td>\n",
              "      <td>0</td>\n",
              "      <td>0</td>\n",
              "      <td>0</td>\n",
              "      <td>0</td>\n",
              "      <td>56</td>\n",
              "      <td>171</td>\n",
              "      <td>19</td>\n",
              "      <td>2</td>\n",
              "    </tr>\n",
              "    <tr>\n",
              "      <th>673</th>\n",
              "      <td>22</td>\n",
              "      <td>27</td>\n",
              "      <td>4</td>\n",
              "      <td>6</td>\n",
              "      <td>3</td>\n",
              "      <td>179</td>\n",
              "      <td>26</td>\n",
              "      <td>9</td>\n",
              "      <td>30</td>\n",
              "      <td>246288</td>\n",
              "      <td>...</td>\n",
              "      <td>0</td>\n",
              "      <td>3</td>\n",
              "      <td>0</td>\n",
              "      <td>0</td>\n",
              "      <td>0</td>\n",
              "      <td>0</td>\n",
              "      <td>56</td>\n",
              "      <td>171</td>\n",
              "      <td>19</td>\n",
              "      <td>2</td>\n",
              "    </tr>\n",
              "    <tr>\n",
              "      <th>699</th>\n",
              "      <td>15</td>\n",
              "      <td>28</td>\n",
              "      <td>5</td>\n",
              "      <td>5</td>\n",
              "      <td>3</td>\n",
              "      <td>291</td>\n",
              "      <td>31</td>\n",
              "      <td>12</td>\n",
              "      <td>40</td>\n",
              "      <td>237656</td>\n",
              "      <td>...</td>\n",
              "      <td>0</td>\n",
              "      <td>1</td>\n",
              "      <td>1</td>\n",
              "      <td>1</td>\n",
              "      <td>0</td>\n",
              "      <td>1</td>\n",
              "      <td>73</td>\n",
              "      <td>171</td>\n",
              "      <td>25</td>\n",
              "      <td>2</td>\n",
              "    </tr>\n",
              "    <tr>\n",
              "      <th>700</th>\n",
              "      <td>22</td>\n",
              "      <td>27</td>\n",
              "      <td>5</td>\n",
              "      <td>6</td>\n",
              "      <td>3</td>\n",
              "      <td>179</td>\n",
              "      <td>26</td>\n",
              "      <td>9</td>\n",
              "      <td>30</td>\n",
              "      <td>237656</td>\n",
              "      <td>...</td>\n",
              "      <td>0</td>\n",
              "      <td>3</td>\n",
              "      <td>0</td>\n",
              "      <td>0</td>\n",
              "      <td>0</td>\n",
              "      <td>0</td>\n",
              "      <td>56</td>\n",
              "      <td>171</td>\n",
              "      <td>19</td>\n",
              "      <td>2</td>\n",
              "    </tr>\n",
              "  </tbody>\n",
              "</table>\n",
              "<p>34 rows × 21 columns</p>\n",
              "</div>"
            ],
            "text/plain": [
              "     ID  Reason for absence  Month of absence  Day of the week  Seasons  \\\n",
              "16    3                  23                 7                6        1   \n",
              "68   34                  23                10                3        4   \n",
              "88   28                  23                11                4        4   \n",
              "109  10                  22                12                4        4   \n",
              "127  34                  27                 1                2        2   \n",
              "128  34                  27                 1                3        2   \n",
              "131  34                  27                 1                4        2   \n",
              "132  27                  23                 1                5        2   \n",
              "133  34                  27                 1                5        2   \n",
              "305   5                  23                10                2        4   \n",
              "351   3                  28                12                6        4   \n",
              "376   3                  27                 2                4        2   \n",
              "385   3                  27                 2                4        2   \n",
              "386   3                  27                 2                6        2   \n",
              "388   3                  27                 2                4        2   \n",
              "389   3                  27                 2                6        2   \n",
              "440  22                  23                 5                4        3   \n",
              "477  24                  28                 7                3        1   \n",
              "496  24                  28                 9                3        1   \n",
              "560  28                  23                12                4        4   \n",
              "605   3                  27                 2                4        2   \n",
              "607   3                  27                 2                6        2   \n",
              "610   3                  27                 2                2        2   \n",
              "615   3                  27                 2                4        2   \n",
              "616   3                  27                 2                5        2   \n",
              "631   3                  27                 3                4        2   \n",
              "632   3                  27                 3                5        2   \n",
              "641   3                  27                 3                4        2   \n",
              "643   3                  27                 3                5        2   \n",
              "666  22                  27                 4                6        3   \n",
              "669  22                  27                 4                6        3   \n",
              "673  22                  27                 4                6        3   \n",
              "699  15                  28                 5                5        3   \n",
              "700  22                  27                 5                6        3   \n",
              "\n",
              "     Transportation expense  Distance from Residence to Work  Service time  \\\n",
              "16                      179                               51            18   \n",
              "68                      118                               10            10   \n",
              "88                      225                               26             9   \n",
              "109                     361                               52             3   \n",
              "127                     118                               10            10   \n",
              "128                     118                               10            10   \n",
              "131                     118                               10            10   \n",
              "132                     184                               42             7   \n",
              "133                     118                               10            10   \n",
              "305                     235                               20            13   \n",
              "351                     179                               51            18   \n",
              "376                     179                               51            18   \n",
              "385                     179                               51            18   \n",
              "386                     179                               51            18   \n",
              "388                     179                               51            18   \n",
              "389                     179                               51            18   \n",
              "440                     179                               26             9   \n",
              "477                     246                               25            16   \n",
              "496                     246                               25            16   \n",
              "560                     225                               26             9   \n",
              "605                     179                               51            18   \n",
              "607                     179                               51            18   \n",
              "610                     179                               51            18   \n",
              "615                     179                               51            18   \n",
              "616                     179                               51            18   \n",
              "631                     179                               51            18   \n",
              "632                     179                               51            18   \n",
              "641                     179                               51            18   \n",
              "643                     179                               51            18   \n",
              "666                     179                               26             9   \n",
              "669                     179                               26             9   \n",
              "673                     179                               26             9   \n",
              "699                     291                               31            12   \n",
              "700                     179                               26             9   \n",
              "\n",
              "     Age  Work load Average/day   ...  Disciplinary failure  Education  Son  \\\n",
              "16    38                  239554  ...                     0          1    0   \n",
              "68    37                  253465  ...                     0          1    0   \n",
              "88    28                  306345  ...                     0          1    1   \n",
              "109   28                  261306  ...                     0          1    1   \n",
              "127   37                  308593  ...                     0          1    0   \n",
              "128   37                  308593  ...                     0          1    0   \n",
              "131   37                  308593  ...                     0          1    0   \n",
              "132   27                  308593  ...                     0          1    0   \n",
              "133   37                  308593  ...                     0          1    0   \n",
              "305   43                  265017  ...                     0          1    1   \n",
              "351   38                  236629  ...                     0          1    0   \n",
              "376   38                  251818  ...                     0          1    0   \n",
              "385   38                  251818  ...                     0          1    0   \n",
              "386   38                  251818  ...                     0          1    0   \n",
              "388   38                  251818  ...                     0          1    0   \n",
              "389   38                  251818  ...                     0          1    0   \n",
              "440   30                  246074  ...                     0          3    0   \n",
              "477   41                  230290  ...                     0          1    0   \n",
              "496   41                  261756  ...                     0          1    0   \n",
              "560   28                  280549  ...                     0          1    1   \n",
              "605   38                  264249  ...                     0          1    0   \n",
              "607   38                  264249  ...                     0          1    0   \n",
              "610   38                  264249  ...                     0          1    0   \n",
              "615   38                  264249  ...                     0          1    0   \n",
              "616   38                  264249  ...                     0          1    0   \n",
              "631   38                  222196  ...                     0          1    0   \n",
              "632   38                  222196  ...                     0          1    0   \n",
              "641   38                  222196  ...                     0          1    0   \n",
              "643   38                  222196  ...                     0          1    0   \n",
              "666   30                  246288  ...                     0          3    0   \n",
              "669   30                  246288  ...                     0          3    0   \n",
              "673   30                  246288  ...                     0          3    0   \n",
              "699   40                  237656  ...                     0          1    1   \n",
              "700   30                  237656  ...                     0          3    0   \n",
              "\n",
              "     Social drinker  Social smoker  Pet  Weight  Height  Body mass index  \\\n",
              "16                1              0    0      89     170               31   \n",
              "68                0              0    0      83     172               28   \n",
              "88                0              0    2      69     169               24   \n",
              "109               1              0    4      80     172               27   \n",
              "127               0              0    0      83     172               28   \n",
              "128               0              0    0      83     172               28   \n",
              "131               0              0    0      83     172               28   \n",
              "132               0              0    0      58     167               21   \n",
              "133               0              0    0      83     172               28   \n",
              "305               1              0    0     106     167               38   \n",
              "351               1              0    0      89     170               31   \n",
              "376               1              0    0      89     170               31   \n",
              "385               1              0    0      89     170               31   \n",
              "386               1              0    0      89     170               31   \n",
              "388               1              0    0      89     170               31   \n",
              "389               1              0    0      89     170               31   \n",
              "440               0              0    0      56     171               19   \n",
              "477               1              0    0      67     170               23   \n",
              "496               1              0    0      67     170               23   \n",
              "560               0              0    2      69     169               24   \n",
              "605               1              0    0      89     170               31   \n",
              "607               1              0    0      89     170               31   \n",
              "610               1              0    0      89     170               31   \n",
              "615               1              0    0      89     170               31   \n",
              "616               1              0    0      89     170               31   \n",
              "631               1              0    0      89     170               31   \n",
              "632               1              0    0      89     170               31   \n",
              "641               1              0    0      89     170               31   \n",
              "643               1              0    0      89     170               31   \n",
              "666               0              0    0      56     171               19   \n",
              "669               0              0    0      56     171               19   \n",
              "673               0              0    0      56     171               19   \n",
              "699               1              0    1      73     171               25   \n",
              "700               0              0    0      56     171               19   \n",
              "\n",
              "     Absenteeism time in hours  \n",
              "16                           2  \n",
              "68                           3  \n",
              "88                           1  \n",
              "109                          8  \n",
              "127                          2  \n",
              "128                          2  \n",
              "131                          2  \n",
              "132                          2  \n",
              "133                          2  \n",
              "305                          2  \n",
              "351                          1  \n",
              "376                          3  \n",
              "385                          3  \n",
              "386                          3  \n",
              "388                          3  \n",
              "389                          3  \n",
              "440                          3  \n",
              "477                          2  \n",
              "496                          1  \n",
              "560                          3  \n",
              "605                          2  \n",
              "607                          2  \n",
              "610                          2  \n",
              "615                          2  \n",
              "616                          2  \n",
              "631                          2  \n",
              "632                          3  \n",
              "641                          2  \n",
              "643                          3  \n",
              "666                          2  \n",
              "669                          2  \n",
              "673                          2  \n",
              "699                          2  \n",
              "700                          2  \n",
              "\n",
              "[34 rows x 21 columns]"
            ]
          },
          "execution_count": 21,
          "metadata": {},
          "output_type": "execute_result"
        }
      ],
      "source": [
        "Data[Data.duplicated()]"
      ]
    },
    {
      "cell_type": "code",
      "execution_count": 22,
      "metadata": {},
      "outputs": [],
      "source": [
        "Data = Data.drop_duplicates(keep=\"first\").reset_index()"
      ]
    },
    {
      "cell_type": "code",
      "execution_count": 23,
      "metadata": {},
      "outputs": [
        {
          "data": {
            "text/plain": [
              "(706, 22)"
            ]
          },
          "execution_count": 23,
          "metadata": {},
          "output_type": "execute_result"
        }
      ],
      "source": [
        "Data.shape"
      ]
    },
    {
      "cell_type": "code",
      "execution_count": 24,
      "metadata": {},
      "outputs": [
        {
          "data": {
            "text/plain": [
              "array([11, 36,  3,  7, 10, 20, 14,  1, 24,  6, 33, 18, 30,  2, 19, 27, 34,\n",
              "        5, 15, 29, 28, 13, 22, 17, 31, 23, 32,  9, 26, 21,  8, 25, 12, 16,\n",
              "        4, 35])"
            ]
          },
          "execution_count": 24,
          "metadata": {},
          "output_type": "execute_result"
        }
      ],
      "source": [
        "#Check the number of employees in the company using their unique IDs\n",
        "Data[\"ID\"].unique()"
      ]
    },
    {
      "cell_type": "markdown",
      "metadata": {},
      "source": [
        "We have 35 employees\n",
        "\n",
        "However this column does not carry any numeric information but its only a label variable (a number that is there to distinguish the individuals from one another, not to carry any numeric information) same as index"
      ]
    },
    {
      "cell_type": "markdown",
      "metadata": {},
      "source": [
        "# Remove Irrelevant faetures"
      ]
    },
    {
      "cell_type": "code",
      "execution_count": 25,
      "metadata": {},
      "outputs": [],
      "source": [
        "Data.drop(Data[\"ID\"], inplace=True)"
      ]
    },
    {
      "cell_type": "markdown",
      "metadata": {},
      "source": [
        "# Remove features if they have more than 80% correlation"
      ]
    },
    {
      "cell_type": "code",
      "execution_count": 26,
      "metadata": {},
      "outputs": [
        {
          "data": {
            "text/plain": [
              "1"
            ]
          },
          "execution_count": 26,
          "metadata": {},
          "output_type": "execute_result"
        }
      ],
      "source": [
        "def correlation(Data, threshold):\n",
        "    col_corr = set()  # Set of all the names of correlated columns\n",
        "    corr_matrix = Data.corr()\n",
        "    for i in range(len(corr_matrix.columns)):\n",
        "        for j in range(i):\n",
        "            if abs(corr_matrix.iloc[i, j]) > threshold: # we are interested in absolute coeff value\n",
        "                colname = corr_matrix.columns[i]  # getting the name of column\n",
        "                col_corr.add(colname)\n",
        "    return col_corr\n",
        "\n",
        "\n",
        "corr_features = correlation(Data, 0.9)\n",
        "len(set(corr_features))"
      ]
    },
    {
      "cell_type": "code",
      "execution_count": 27,
      "metadata": {},
      "outputs": [
        {
          "data": {
            "text/plain": [
              "{'Body mass index'}"
            ]
          },
          "execution_count": 27,
          "metadata": {},
          "output_type": "execute_result"
        }
      ],
      "source": [
        "corr_features\n"
      ]
    },
    {
      "cell_type": "markdown",
      "metadata": {},
      "source": [
        "We therefore drop Body mass index since it has correlation more than 90%"
      ]
    },
    {
      "cell_type": "code",
      "execution_count": 28,
      "metadata": {},
      "outputs": [],
      "source": [
        "Data.drop(['Body mass index'], axis=1, inplace=True)"
      ]
    },
    {
      "cell_type": "markdown",
      "metadata": {},
      "source": [
        "Pet is more objective than subjective.\n",
        "Month of absence, Day of the week', 'Seasons', we are looking for the number of absences and not a period of absences.\n",
        "Weight,Height',are very subjective data, for our analysis it will not influence the number of absences\n",
        "we are not analyzing reasons for absences hence we can also delete reasons for absence\n",
        "Month of absence, Day of the week', 'Seasons', we are looking for the number of absences and not a period of absences;"
      ]
    },
    {
      "cell_type": "code",
      "execution_count": 29,
      "metadata": {},
      "outputs": [],
      "source": [
        "#Data.drop(['Month of absence','Seasons','Reason for absence','Month of absence','Hit target','Pet', 'Weight','Height'], axis=1, inplace=True )"
      ]
    },
    {
      "cell_type": "code",
      "execution_count": 30,
      "metadata": {},
      "outputs": [
        {
          "data": {
            "text/plain": [
              "array([  4,   8,   2,   3,  32,   0,   1,   5,  16,  40,  24,  64,  56,\n",
              "        80, 120, 112, 104,  48])"
            ]
          },
          "execution_count": 30,
          "metadata": {},
          "output_type": "execute_result"
        }
      ],
      "source": [
        "Data[\"Absenteeism time in hours\"].unique()"
      ]
    },
    {
      "cell_type": "markdown",
      "metadata": {},
      "source": []
    },
    {
      "cell_type": "code",
      "execution_count": 31,
      "metadata": {},
      "outputs": [
        {
          "data": {
            "text/plain": [
              "7.152238805970149"
            ]
          },
          "execution_count": 31,
          "metadata": {},
          "output_type": "execute_result"
        }
      ],
      "source": [
        "#Average time of absenteeism at work\n",
        "Data[\"Absenteeism time in hours\"].mean()"
      ]
    },
    {
      "cell_type": "code",
      "execution_count": 32,
      "metadata": {},
      "outputs": [
        {
          "data": {
            "text/plain": [
              "nan"
            ]
          },
          "execution_count": 32,
          "metadata": {},
          "output_type": "execute_result"
        }
      ],
      "source": [
        "Data[Data['Day of the week']==7]['Absenteeism time in hours'].mean()"
      ]
    },
    {
      "cell_type": "markdown",
      "metadata": {},
      "source": [
        "Observe reasons for absence"
      ]
    },
    {
      "cell_type": "code",
      "execution_count": 33,
      "metadata": {},
      "outputs": [
        {
          "data": {
            "text/plain": [
              "array([  4,   8,   2,   3,  32,   0,   1,   5,  16,  40,  24,  64,  56,\n",
              "        80, 120, 112, 104,  48])"
            ]
          },
          "execution_count": 33,
          "metadata": {},
          "output_type": "execute_result"
        }
      ],
      "source": [
        "Data[\"Absenteeism time in hours\"].unique()"
      ]
    },
    {
      "cell_type": "markdown",
      "metadata": {},
      "source": [
        "- 0: 'Unknown',\n",
        "- 2: 'Neoplasms',\n",
        "- 3: 'Diseases of the blood and blood-forming organs and certain disorders involving the immune mechanism',\n",
        "- 4: 'Endocrine, nutritional and metabolic diseases',\n",
        "- 5: 'Mental and behavioural disorders',\n",
        "- 6: 'Diseases of the nervous system',\n",
        "- 7: 'Diseases of the eye and adnexa',\n",
        "- 8: 'Diseases of the ear and mastoid process',\n",
        "- 9: 'Diseases of the circulatory system',\n",
        "- 10: 'Diseases of the respiratory system',\n",
        "- 11: 'Diseases of the digestive system',\n",
        "- 12: 'Diseases of the skin and subcutaneous tissue',\n",
        "- 13: 'Diseases of the musculoskeletal system and connective tissue',\n",
        "- 14: 'Diseases of the genitourinary system',\n",
        "- 15: 'Pregnancy, childbirth and the puerperium',\n",
        "- 16: 'Certain conditions originating in the perinatal period',\n",
        "- 17: 'Congenital malformations, deformations and chromosomal abnormalities',\n",
        "- 18: 'Symptoms, signs and abnormal clinical and laboratory findings, not elsewhere classified',\n",
        "- 19: 'Injury, poisoning and certain other consequences of external causes',\n",
        "- 20: 'External causes of morbidity and mortality',\n",
        "- 21: 'Factors influencing health status and contact with health services',\n",
        "- 22: 'Patient follow-up',\n",
        "- 23: 'Medical consultation',\n",
        "- 24: 'Blood donation',\n",
        "- 25: 'Laboratory examination',\n",
        "- 26: 'Unjustified absence',\n",
        "- 27: 'Physiotherapy',\n",
        "- 28: 'Dental consultation'\n"
      ]
    },
    {
      "cell_type": "code",
      "execution_count": 34,
      "metadata": {},
      "outputs": [
        {
          "data": {
            "text/plain": [
              "<seaborn.axisgrid.FacetGrid at 0x7f1338c37550>"
            ]
          },
          "execution_count": 34,
          "metadata": {},
          "output_type": "execute_result"
        },
        {
          "data": {
            "image/png": "[encoded data removed]",
            "text/plain": [
              "<Figure size 1152x288 with 1 Axes>"
            ]
          },
          "metadata": {},
          "output_type": "display_data"
        }
      ],
      "source": [
        "# plot distribution of \"reason for absence\" column\n",
        "sns.set_style(\"whitegrid\")\n",
        "sns.catplot(data=Data, x='Reason for absence', kind= 'count',size=4, aspect=4, palette='muted')"
      ]
    },
    {
      "cell_type": "code",
      "execution_count": 35,
      "metadata": {},
      "outputs": [
        {
          "data": {
            "text/plain": [
              "Text(0.5, 1.0, 'mean absent hours based on reason of absence')"
            ]
          },
          "execution_count": 35,
          "metadata": {},
          "output_type": "execute_result"
        },
        {
          "data": {
            "image/png": "[encoded data removed]",
            "text/plain": [
              "<Figure size 1440x360 with 1 Axes>"
            ]
          },
          "metadata": {},
          "output_type": "display_data"
        }
      ],
      "source": [
        "mean_reason = Data[['Reason for absence', 'Absenteeism time in hours']].groupby('Reason for absence').mean().reset_index().sort_values('Absenteeism time in hours', ascending = False)\n",
        "plt.figure(figsize = (20,5))\n",
        "sns.barplot(mean_reason['Reason for absence'],   mean_reason['Absenteeism time in hours'])\n",
        "plt.title('mean absent hours based on reason of absence')"
      ]
    },
    {
      "cell_type": "markdown",
      "metadata": {},
      "source": [
        "The highest mean hours of absensce is because of disease of circulatory system. It is related to heart disease, based on the data heart disease took longer time to recover, it is 18 hours longer than the top 2 absent reason which is neoplasm."
      ]
    },
    {
      "cell_type": "code",
      "execution_count": 36,
      "metadata": {},
      "outputs": [
        {
          "data": {
            "text/plain": [
              "<AxesSubplot:xlabel='Month of absence', ylabel='Absenteeism time in hours'>"
            ]
          },
          "execution_count": 36,
          "metadata": {},
          "output_type": "execute_result"
        },
        {
          "data": {
            "image/png": "[encoded data removed]",
            "text/plain": [
              "<Figure size 720x360 with 1 Axes>"
            ]
          },
          "metadata": {},
          "output_type": "display_data"
        }
      ],
      "source": [
        "month = Data[['Month of absence', 'Absenteeism time in hours']].groupby('Month of absence').sum().reset_index()\n",
        "plt.figure(figsize = (10,5))\n",
        "sns.lineplot(x = month['Month of absence'], y= month['Absenteeism time in hours'])"
      ]
    },
    {
      "cell_type": "markdown",
      "metadata": {},
      "source": [
        "In march and july employee tends to go absent."
      ]
    },
    {
      "cell_type": "code",
      "execution_count": 37,
      "metadata": {},
      "outputs": [
        {
          "data": {
            "text/plain": [
              "<AxesSubplot:xlabel='Day of the week', ylabel='Absenteeism time in hours'>"
            ]
          },
          "execution_count": 37,
          "metadata": {},
          "output_type": "execute_result"
        },
        {
          "data": {
            "image/png": "[encoded data removed]",
            "text/plain": [
              "<Figure size 720x360 with 1 Axes>"
            ]
          },
          "metadata": {},
          "output_type": "display_data"
        }
      ],
      "source": [
        "day = Data[['Day of the week', 'Absenteeism time in hours']].groupby('Day of the week').sum().reset_index()\n",
        "day\n",
        "plt.figure(figsize = (10,5))\n",
        "sns.lineplot(x = day['Day of the week'], y= day['Absenteeism time in hours'])"
      ]
    },
    {
      "cell_type": "markdown",
      "metadata": {},
      "source": [
        "There were no data that recorded on monday (0 records).\n",
        "The more closer to weekend, the lower the total absenteeism hours"
      ]
    },
    {
      "cell_type": "code",
      "execution_count": 38,
      "metadata": {},
      "outputs": [
        {
          "data": {
            "text/plain": [
              "<AxesSubplot:xlabel='Transportation expense', ylabel='Absenteeism time in hours'>"
            ]
          },
          "execution_count": 38,
          "metadata": {},
          "output_type": "execute_result"
        },
        {
          "data": {
            "image/png": "[encoded data removed]",
            "text/plain": [
              "<Figure size 432x288 with 1 Axes>"
            ]
          },
          "metadata": {},
          "output_type": "display_data"
        }
      ],
      "source": [
        "sns.scatterplot(Data['Transportation expense'], Data['Absenteeism time in hours'])"
      ]
    },
    {
      "cell_type": "markdown",
      "metadata": {},
      "source": [
        "Checking the scatter plot, the were no linear relationship between transporation expense and absenteeism time in hours, additional, the confusion matrix there is weak correlation."
      ]
    },
    {
      "cell_type": "code",
      "execution_count": 39,
      "metadata": {},
      "outputs": [
        {
          "data": {
            "text/plain": [
              "<AxesSubplot:xlabel='Distance from Residence to Work', ylabel='Absenteeism time in hours'>"
            ]
          },
          "execution_count": 39,
          "metadata": {},
          "output_type": "execute_result"
        },
        {
          "data": {
            "image/png": "[encoded data removed]",
            "text/plain": [
              "<Figure size 432x288 with 1 Axes>"
            ]
          },
          "metadata": {},
          "output_type": "display_data"
        }
      ],
      "source": [
        "sns.scatterplot(Data['Distance from Residence to Work'], Data['Absenteeism time in hours'])"
      ]
    },
    {
      "cell_type": "code",
      "execution_count": 40,
      "metadata": {},
      "outputs": [
        {
          "data": {
            "text/plain": [
              "<AxesSubplot:>"
            ]
          },
          "execution_count": 40,
          "metadata": {},
          "output_type": "execute_result"
        },
        {
          "data": {
            "image/png": "[encoded data removed]",
            "text/plain": [
              "<Figure size 432x288 with 2 Axes>"
            ]
          },
          "metadata": {},
          "output_type": "display_data"
        }
      ],
      "source": [
        "sns.heatmap(Data[['Distance from Residence to Work', 'Absenteeism time in hours']].corr('spearman'), annot = True)"
      ]
    },
    {
      "cell_type": "markdown",
      "metadata": {},
      "source": [
        "Checking the scatter plot, the were no linear relationship between transporation expense and absenteeism time in hours.Based on confusion matrix, there are positive correlation but the number is indicating that it is very weak because the number is very close to 0. hence we can conclude that Distance did not contribute to absenteeism in work."
      ]
    },
    {
      "cell_type": "code",
      "execution_count": 41,
      "metadata": {},
      "outputs": [
        {
          "data": {
            "text/plain": [
              "<AxesSubplot:xlabel='Service time', ylabel='Absenteeism time in hours'>"
            ]
          },
          "execution_count": 41,
          "metadata": {},
          "output_type": "execute_result"
        },
        {
          "data": {
            "image/png": "[encoded data removed]",
            "text/plain": [
              "<Figure size 432x288 with 1 Axes>"
            ]
          },
          "metadata": {},
          "output_type": "display_data"
        }
      ],
      "source": [
        "sns.scatterplot(Data['Service time'], Data['Absenteeism time in hours'])"
      ]
    },
    {
      "cell_type": "code",
      "execution_count": 42,
      "metadata": {},
      "outputs": [
        {
          "data": {
            "text/plain": [
              "<AxesSubplot:>"
            ]
          },
          "execution_count": 42,
          "metadata": {},
          "output_type": "execute_result"
        },
        {
          "data": {
            "image/png": "[encoded data removed]",
            "text/plain": [
              "<Figure size 432x288 with 2 Axes>"
            ]
          },
          "metadata": {},
          "output_type": "display_data"
        }
      ],
      "source": [
        "sns.heatmap(Data[['Service time', 'Absenteeism time in hours']].corr('spearman'), annot = True)"
      ]
    },
    {
      "cell_type": "markdown",
      "metadata": {},
      "source": [
        " The were no linear relationship between service time and absenteeism time in hours. Based on confusion matrix, there are negative correlation but the number is indicating that it is very weak because the number is very close to 0. We could conclude that service time is not the factors that made the employee absent."
      ]
    },
    {
      "cell_type": "code",
      "execution_count": 43,
      "metadata": {},
      "outputs": [
        {
          "data": {
            "text/plain": [
              "<AxesSubplot:xlabel='Age', ylabel='Absenteeism time in hours'>"
            ]
          },
          "execution_count": 43,
          "metadata": {},
          "output_type": "execute_result"
        },
        {
          "data": {
            "image/png": "[encoded data removed]",
            "text/plain": [
              "<Figure size 432x288 with 1 Axes>"
            ]
          },
          "metadata": {},
          "output_type": "display_data"
        }
      ],
      "source": [
        "sns.scatterplot(Data['Age'], Data['Absenteeism time in hours'])"
      ]
    },
    {
      "cell_type": "code",
      "execution_count": 44,
      "metadata": {},
      "outputs": [
        {
          "data": {
            "text/plain": [
              "<AxesSubplot:>"
            ]
          },
          "execution_count": 44,
          "metadata": {},
          "output_type": "execute_result"
        },
        {
          "data": {
            "image/png": "[encoded data removed]",
            "text/plain": [
              "<Figure size 432x288 with 2 Axes>"
            ]
          },
          "metadata": {},
          "output_type": "display_data"
        }
      ],
      "source": [
        "sns.heatmap(Data[['Age', 'Absenteeism time in hours']].corr('spearman'), annot = True)"
      ]
    },
    {
      "cell_type": "markdown",
      "metadata": {},
      "source": [
        "The were no linear relationship between age and absenteeism time in hours. Based on confusion matrix, there are negative correlation but the number is indicating that it is very weak because the number is very close to 0. We could conclude that age is not the factors that made the employee absent. Employee that is on its senior age does not mean that they are more prone to sickness, also employee that are still young does not mean they're healthy."
      ]
    },
    {
      "cell_type": "code",
      "execution_count": 45,
      "metadata": {},
      "outputs": [
        {
          "data": {
            "text/html": [
              "<div>\n",
              "<style scoped>\n",
              "    .dataframe tbody tr th:only-of-type {\n",
              "        vertical-align: middle;\n",
              "    }\n",
              "\n",
              "    .dataframe tbody tr th {\n",
              "        vertical-align: top;\n",
              "    }\n",
              "\n",
              "    .dataframe thead th {\n",
              "        text-align: right;\n",
              "    }\n",
              "</style>\n",
              "<table border=\"1\" class=\"dataframe\">\n",
              "  <thead>\n",
              "    <tr style=\"text-align: right;\">\n",
              "      <th></th>\n",
              "      <th>Absenteeism time in hours</th>\n",
              "    </tr>\n",
              "    <tr>\n",
              "      <th>Disciplinary failure</th>\n",
              "      <th></th>\n",
              "    </tr>\n",
              "  </thead>\n",
              "  <tbody>\n",
              "    <tr>\n",
              "      <th>0</th>\n",
              "      <td>4792</td>\n",
              "    </tr>\n",
              "    <tr>\n",
              "      <th>1</th>\n",
              "      <td>0</td>\n",
              "    </tr>\n",
              "  </tbody>\n",
              "</table>\n",
              "</div>"
            ],
            "text/plain": [
              "                      Absenteeism time in hours\n",
              "Disciplinary failure                           \n",
              "0                                          4792\n",
              "1                                             0"
            ]
          },
          "execution_count": 45,
          "metadata": {},
          "output_type": "execute_result"
        }
      ],
      "source": [
        "Data[['Disciplinary failure', 'Absenteeism time in hours']].groupby('Disciplinary failure').sum()"
      ]
    },
    {
      "cell_type": "markdown",
      "metadata": {},
      "source": [
        "The employee that are absent does not because of indisciplinary action\n",
        "the indisiciplinary action is not because of they are absent with no reason. but it is more indiciplinary action in work environment"
      ]
    },
    {
      "cell_type": "code",
      "execution_count": 46,
      "metadata": {},
      "outputs": [
        {
          "data": {
            "text/html": [
              "<div>\n",
              "<style scoped>\n",
              "    .dataframe tbody tr th:only-of-type {\n",
              "        vertical-align: middle;\n",
              "    }\n",
              "\n",
              "    .dataframe tbody tr th {\n",
              "        vertical-align: top;\n",
              "    }\n",
              "\n",
              "    .dataframe thead th {\n",
              "        text-align: right;\n",
              "    }\n",
              "</style>\n",
              "<table border=\"1\" class=\"dataframe\">\n",
              "  <thead>\n",
              "    <tr style=\"text-align: right;\">\n",
              "      <th></th>\n",
              "      <th>Absenteeism time in hours</th>\n",
              "    </tr>\n",
              "    <tr>\n",
              "      <th>Education</th>\n",
              "      <th></th>\n",
              "    </tr>\n",
              "  </thead>\n",
              "  <tbody>\n",
              "    <tr>\n",
              "      <th>1</th>\n",
              "      <td>549</td>\n",
              "    </tr>\n",
              "    <tr>\n",
              "      <th>2</th>\n",
              "      <td>45</td>\n",
              "    </tr>\n",
              "    <tr>\n",
              "      <th>3</th>\n",
              "      <td>72</td>\n",
              "    </tr>\n",
              "    <tr>\n",
              "      <th>4</th>\n",
              "      <td>4</td>\n",
              "    </tr>\n",
              "  </tbody>\n",
              "</table>\n",
              "</div>"
            ],
            "text/plain": [
              "           Absenteeism time in hours\n",
              "Education                           \n",
              "1                                549\n",
              "2                                 45\n",
              "3                                 72\n",
              "4                                  4"
            ]
          },
          "execution_count": 46,
          "metadata": {},
          "output_type": "execute_result"
        }
      ],
      "source": [
        "Data[['Education', 'Absenteeism time in hours']].groupby('Education').count()"
      ]
    },
    {
      "cell_type": "code",
      "execution_count": 47,
      "metadata": {},
      "outputs": [
        {
          "data": {
            "text/plain": [
              "<AxesSubplot:xlabel='Education', ylabel='Absenteeism time in hours'>"
            ]
          },
          "execution_count": 47,
          "metadata": {},
          "output_type": "execute_result"
        },
        {
          "data": {
            "image/png": "[encoded data removed]",
            "text/plain": [
              "<Figure size 432x288 with 1 Axes>"
            ]
          },
          "metadata": {},
          "output_type": "display_data"
        }
      ],
      "source": [
        "education= Data[['Education', 'Absenteeism time in hours']].groupby('Education').sum().reset_index()\n",
        "sns.barplot(education['Education'], education['Absenteeism time in hours'])"
      ]
    },
    {
      "cell_type": "markdown",
      "metadata": {},
      "source": [
        "The majority education of employee is on highschool level and the majority of absenteeism are from high-school education - employee."
      ]
    },
    {
      "cell_type": "code",
      "execution_count": 48,
      "metadata": {},
      "outputs": [
        {
          "data": {
            "text/plain": [
              "<AxesSubplot:xlabel='Son', ylabel='Absenteeism time in hours'>"
            ]
          },
          "execution_count": 48,
          "metadata": {},
          "output_type": "execute_result"
        },
        {
          "data": {
            "image/png": "[encoded data removed]",
            "text/plain": [
              "<Figure size 432x288 with 1 Axes>"
            ]
          },
          "metadata": {},
          "output_type": "display_data"
        }
      ],
      "source": [
        "son= Data[['Son', 'Absenteeism time in hours']].groupby('Son').sum().reset_index()\n",
        "sns.barplot(son['Son'], son['Absenteeism time in hours'])"
      ]
    },
    {
      "cell_type": "markdown",
      "metadata": {},
      "source": [
        "The more the number of sons, the lesser  the numbers of being absent in work"
      ]
    },
    {
      "cell_type": "code",
      "execution_count": 49,
      "metadata": {},
      "outputs": [
        {
          "data": {
            "text/html": [
              "<div>\n",
              "<style scoped>\n",
              "    .dataframe tbody tr th:only-of-type {\n",
              "        vertical-align: middle;\n",
              "    }\n",
              "\n",
              "    .dataframe tbody tr th {\n",
              "        vertical-align: top;\n",
              "    }\n",
              "\n",
              "    .dataframe thead th {\n",
              "        text-align: right;\n",
              "    }\n",
              "</style>\n",
              "<table border=\"1\" class=\"dataframe\">\n",
              "  <thead>\n",
              "    <tr style=\"text-align: right;\">\n",
              "      <th></th>\n",
              "      <th>Son</th>\n",
              "      <th>Absenteeism time in hours</th>\n",
              "    </tr>\n",
              "  </thead>\n",
              "  <tbody>\n",
              "    <tr>\n",
              "      <th>Son</th>\n",
              "      <td>1.000000</td>\n",
              "      <td>0.122385</td>\n",
              "    </tr>\n",
              "    <tr>\n",
              "      <th>Absenteeism time in hours</th>\n",
              "      <td>0.122385</td>\n",
              "      <td>1.000000</td>\n",
              "    </tr>\n",
              "  </tbody>\n",
              "</table>\n",
              "</div>"
            ],
            "text/plain": [
              "                                Son  Absenteeism time in hours\n",
              "Son                        1.000000                   0.122385\n",
              "Absenteeism time in hours  0.122385                   1.000000"
            ]
          },
          "execution_count": 49,
          "metadata": {},
          "output_type": "execute_result"
        }
      ],
      "source": [
        "Data[['Son', 'Absenteeism time in hours']].corr('spearman')"
      ]
    },
    {
      "cell_type": "markdown",
      "metadata": {},
      "source": [
        "However, there is no relationship betweeen number of sons and absenteeism time in hours"
      ]
    },
    {
      "cell_type": "code",
      "execution_count": null,
      "metadata": {},
      "outputs": [],
      "source": []
    },
    {
      "cell_type": "markdown",
      "metadata": {},
      "source": [
        "# Absenteeism time wise"
      ]
    },
    {
      "cell_type": "code",
      "execution_count": 50,
      "metadata": {},
      "outputs": [
        {
          "data": {
            "text/plain": [
              "<AxesSubplot:xlabel='Reason for absence', ylabel='Absenteeism time in hours'>"
            ]
          },
          "execution_count": 50,
          "metadata": {},
          "output_type": "execute_result"
        },
        {
          "data": {
            "image/png": "[encoded data removed]",
            "text/plain": [
              "<Figure size 1080x432 with 1 Axes>"
            ]
          },
          "metadata": {},
          "output_type": "display_data"
        }
      ],
      "source": [
        "\n",
        "plt.figure(figsize = (15,6))\n",
        "sns.barplot(Data.groupby(['Reason for absence'])['Absenteeism time in hours'].sum().index, \n",
        "            Data.groupby(['Reason for absence'])['Absenteeism time in hours'].sum(), palette=\"icefire\")"
      ]
    },
    {
      "cell_type": "code",
      "execution_count": null,
      "metadata": {},
      "outputs": [],
      "source": []
    },
    {
      "cell_type": "markdown",
      "metadata": {},
      "source": [
        "# Absenteeism  Time Per Day of The Week And Per Month "
      ]
    },
    {
      "cell_type": "code",
      "execution_count": 51,
      "metadata": {},
      "outputs": [
        {
          "data": {
            "text/plain": [
              "<AxesSubplot:xlabel='Month of absence', ylabel='Absenteeism time in hours'>"
            ]
          },
          "execution_count": 51,
          "metadata": {},
          "output_type": "execute_result"
        },
        {
          "data": {
            "image/png": "[encoded data removed]",
            "text/plain": [
              "<Figure size 1080x288 with 2 Axes>"
            ]
          },
          "metadata": {},
          "output_type": "display_data"
        }
      ],
      "source": [
        "plt.figure(figsize = (15,4))\n",
        "plt.subplot(1, 2, 1)\n",
        "sns.barplot(Data.groupby(['Day of the week'])['Absenteeism time in hours'].sum().index, \n",
        "            Data.groupby(['Day of the week'])['Absenteeism time in hours'].sum(), palette=\"magma\")\n",
        "plt.subplot(1, 2, 2)\n",
        "sns.barplot(Data.groupby(['Month of absence'])['Absenteeism time in hours'].sum().index, \n",
        "            Data.groupby(['Month of absence'])['Absenteeism time in hours'].sum(), palette=\"magma\")"
      ]
    },
    {
      "cell_type": "markdown",
      "metadata": {},
      "source": [
        "# Absenteeism time - Age and BMI"
      ]
    },
    {
      "cell_type": "code",
      "execution_count": 52,
      "metadata": {},
      "outputs": [
        {
          "data": {
            "text/plain": [
              "<AxesSubplot:xlabel='Weight', ylabel='Absenteeism time in hours'>"
            ]
          },
          "execution_count": 52,
          "metadata": {},
          "output_type": "execute_result"
        },
        {
          "data": {
            "image/png": "[encoded data removed]",
            "text/plain": [
              "<Figure size 1152x288 with 2 Axes>"
            ]
          },
          "metadata": {},
          "output_type": "display_data"
        }
      ],
      "source": [
        "plt.figure(figsize = (16,4))\n",
        "plt.subplot(1, 2, 1)\n",
        "sns.barplot(Data.groupby(['Height'])['Absenteeism time in hours'].sum().index, \n",
        "            Data.groupby(['Height'])['Absenteeism time in hours'].sum(), palette=\"Paired\")\n",
        "plt.subplot(1, 2, 2)\n",
        "sns.barplot(Data.groupby(['Weight'])['Absenteeism time in hours'].sum().index, \n",
        "            Data.groupby(['Weight'])['Absenteeism time in hours'].sum(), palette=\"Paired\")"
      ]
    },
    {
      "cell_type": "markdown",
      "metadata": {},
      "source": [
        "# Absenteeism Education Wise"
      ]
    },
    {
      "cell_type": "code",
      "execution_count": 53,
      "metadata": {},
      "outputs": [
        {
          "data": {
            "text/plain": [
              "<AxesSubplot:xlabel='Education', ylabel='Absenteeism time in hours'>"
            ]
          },
          "execution_count": 53,
          "metadata": {},
          "output_type": "execute_result"
        },
        {
          "data": {
            "image/png": "[encoded data removed]",
            "text/plain": [
              "<Figure size 720x360 with 1 Axes>"
            ]
          },
          "metadata": {},
          "output_type": "display_data"
        }
      ],
      "source": [
        "plt.figure(figsize = (10,5))\n",
        "\n",
        "sns.barplot(Data.groupby(['Education'])['Absenteeism time in hours'].sum().index, \n",
        "            Data.groupby(['Education'])['Absenteeism time in hours'].sum(), palette=\"Set2\")"
      ]
    },
    {
      "cell_type": "code",
      "execution_count": 54,
      "metadata": {},
      "outputs": [
        {
          "data": {
            "text/plain": [
              "<seaborn.axisgrid.JointGrid at 0x7f13383590d0>"
            ]
          },
          "execution_count": 54,
          "metadata": {},
          "output_type": "execute_result"
        },
        {
          "data": {
            "image/png": "[encoded data removed]",
            "text/plain": [
              "<Figure size 432x432 with 3 Axes>"
            ]
          },
          "metadata": {},
          "output_type": "display_data"
        }
      ],
      "source": [
        "#get the relationship between absenteeism time in hours and seasons\n",
        "sns.jointplot(x=Data[\"Absenteeism time in hours\"], y=Data[\"Seasons\"],data=Data)"
      ]
    },
    {
      "cell_type": "code",
      "execution_count": 55,
      "metadata": {},
      "outputs": [
        {
          "data": {
            "text/plain": [
              "<seaborn.axisgrid.JointGrid at 0x7f133800d640>"
            ]
          },
          "execution_count": 55,
          "metadata": {},
          "output_type": "execute_result"
        },
        {
          "data": {
            "image/png": "[encoded data removed]",
            "text/plain": [
              "<Figure size 432x432 with 3 Axes>"
            ]
          },
          "metadata": {},
          "output_type": "display_data"
        }
      ],
      "source": [
        "#get the relationship between absenteeism time in hours and Age\n",
        "sns.jointplot(x=Data[\"Absenteeism time in hours\"], y=Data[\"Age\"],data=Data)"
      ]
    },
    {
      "cell_type": "code",
      "execution_count": 56,
      "metadata": {},
      "outputs": [
        {
          "data": {
            "text/plain": [
              "<seaborn.axisgrid.FacetGrid at 0x7f1337c56d90>"
            ]
          },
          "execution_count": 56,
          "metadata": {},
          "output_type": "execute_result"
        },
        {
          "data": {
            "text/plain": [
              "<Figure size 864x432 with 0 Axes>"
            ]
          },
          "metadata": {},
          "output_type": "display_data"
        },
        {
          "data": {
            "image/png": "[encoded data removed]",
            "text/plain": [
              "<Figure size 809.25x360 with 1 Axes>"
            ]
          },
          "metadata": {},
          "output_type": "display_data"
        }
      ],
      "source": [
        "plt.figure(figsize=(12,6))\n",
        "sns.lmplot(x='Age',y='Absenteeism time in hours',data=Data,hue='Day of the week',size=5,aspect=2)"
      ]
    },
    {
      "cell_type": "markdown",
      "metadata": {},
      "source": [
        "Separate numerical and categorical data"
      ]
    },
    {
      "cell_type": "code",
      "execution_count": 57,
      "metadata": {},
      "outputs": [],
      "source": [
        "categorical_vars = ['Reason for absence','Month of absence','Day of the week',\n",
        "                     'Seasons','Disciplinary failure', 'Education', 'Social drinker',\n",
        "                     'Social smoker', 'Pet', 'Son']\n",
        "numerical_vars = Data.drop(columns=categorical_vars).columns.to_list()"
      ]
    },
    {
      "cell_type": "code",
      "execution_count": 58,
      "metadata": {},
      "outputs": [
        {
          "data": {
            "text/plain": [
              "Reason for absence      28\n",
              "Month of absence        13\n",
              "Day of the week          5\n",
              "Seasons                  4\n",
              "Disciplinary failure     2\n",
              "Education                4\n",
              "Social drinker           2\n",
              "Social smoker            2\n",
              "Pet                      6\n",
              "Son                      5\n",
              "dtype: int64"
            ]
          },
          "execution_count": 58,
          "metadata": {},
          "output_type": "execute_result"
        }
      ],
      "source": [
        "# number of unique values in categorical atts\n",
        "Data[categorical_vars].nunique()"
      ]
    },
    {
      "cell_type": "code",
      "execution_count": 59,
      "metadata": {},
      "outputs": [
        {
          "data": {
            "image/png": "[encoded data removed]",
            "text/plain": [
              "<Figure size 1440x1440 with 10 Axes>"
            ]
          },
          "metadata": {},
          "output_type": "display_data"
        }
      ],
      "source": [
        "# plot distribution of numerical attributes\n",
        "num_data = Data[numerical_vars]\n",
        "plt.figure(figsize=(20,20))\n",
        "for i in range(1, 11):\n",
        "    plt.subplot(3, 4, i)\n",
        "    sns.distplot(num_data[num_data.columns[i-1]],bins=14)"
      ]
    },
    {
      "cell_type": "code",
      "execution_count": 60,
      "metadata": {},
      "outputs": [
        {
          "data": {
            "image/png": "[encoded data removed]",
            "text/plain": [
              "<Figure size 720x432 with 2 Axes>"
            ]
          },
          "metadata": {},
          "output_type": "display_data"
        }
      ],
      "source": [
        "# correlation matrix\n",
        "num_corr = num_data.corr()\n",
        "plt.figure(figsize=(10,6))\n",
        "sns.heatmap(num_corr, annot=True, fmt=\".3f\",vmin=-1, vmax=1, linewidths=.5, cmap = sns.color_palette(\"RdBu\", 100))\n",
        "plt.yticks(rotation=0)\n",
        "plt.show()"
      ]
    },
    {
      "cell_type": "code",
      "execution_count": 61,
      "metadata": {},
      "outputs": [
        {
          "data": {
            "text/plain": [
              "670"
            ]
          },
          "execution_count": 61,
          "metadata": {},
          "output_type": "execute_result"
        }
      ],
      "source": [
        "len(Data)"
      ]
    },
    {
      "cell_type": "markdown",
      "metadata": {},
      "source": [
        "Outlier detection "
      ]
    },
    {
      "cell_type": "code",
      "execution_count": 62,
      "metadata": {},
      "outputs": [],
      "source": [
        "# Check for outliers using boxplots and drop them\n",
        "for num_at in numerical_vars:\n",
        "    # Getting 75 and 25 percentile of variable \"i\"\n",
        "    Q3, Q1 = np.percentile(Data[num_at], [75,25])\n",
        "    MEAN = Data[num_at].mean()\n",
        "    \n",
        "    # Calculating Interquartile range\n",
        "    IQR = Q3 - Q1\n",
        "    \n",
        "    # Calculating upper extremes and lower extremes\n",
        "    minimum = Q1 - (IQR*1.5)\n",
        "    maximum = Q3 + (IQR*1.5)\n",
        "    \n",
        "    # Replacing all the outliers value to Mean\n",
        "    data_clean=Data.drop(Data.loc[Data[num_at]< minimum,num_at].index) \n",
        "    data_clean=Data.drop(Data.loc[Data[num_at]> maximum,num_at].index)"
      ]
    },
    {
      "cell_type": "code",
      "execution_count": 63,
      "metadata": {},
      "outputs": [
        {
          "data": {
            "text/plain": [
              "628"
            ]
          },
          "execution_count": 63,
          "metadata": {},
          "output_type": "execute_result"
        }
      ],
      "source": [
        "len(data_clean)"
      ]
    },
    {
      "cell_type": "markdown",
      "metadata": {},
      "source": [
        "Length reduce from 670 to 628"
      ]
    },
    {
      "cell_type": "code",
      "execution_count": null,
      "metadata": {},
      "outputs": [],
      "source": []
    },
    {
      "cell_type": "markdown",
      "metadata": {},
      "source": [
        "Normalization"
      ]
    },
    {
      "cell_type": "markdown",
      "metadata": {},
      "source": [
        "Minority = not absent majority = absent 1 = absent (not present) 0 = not absent (present) True positive = Actual absent, prediction absent True negative = Actual not absent, prediction not absent False positive = Actual not absent (present), but the prediction is absent False negative = Actual absent but the prediction is present -> main concern\n",
        "\n",
        "MAIN CONCERN\n",
        "\n",
        "our main concern is to supress the number of false negative while also having least number of false positive. (balancing)\n",
        "Why we want to balance out the false positive and false negative. Case: After detecting the employee that tends to go sick. the company apporach is to examine the employees health to mental-wellness-program and healthy-program. Also taking several health examination. If we have big false positive then company have to pay more for the program and examination (more people that detected tends to go absent but the actual he is healthy). Also we need to supress the false negative so that our prediction is more likely to be accurate in predicting people that tends to go absent."
      ]
    },
    {
      "cell_type": "code",
      "execution_count": 64,
      "metadata": {},
      "outputs": [],
      "source": [
        "ab = []\n",
        "for i in Data['Absenteeism time in hours']:\n",
        "    if i > 0 :\n",
        "        ab.append(1)\n",
        "    else:\n",
        "        ab.append(0)\n",
        "Data['Absenteeism'] = ab #classification target"
      ]
    },
    {
      "cell_type": "code",
      "execution_count": null,
      "metadata": {},
      "outputs": [],
      "source": []
    },
    {
      "cell_type": "code",
      "execution_count": 65,
      "metadata": {},
      "outputs": [],
      "source": [
        "Data.drop(columns = ['Reason for absence', 'Absenteeism time in hours','Month of absence', 'Day of the week'], inplace = True)"
      ]
    },
    {
      "cell_type": "code",
      "execution_count": 66,
      "metadata": {},
      "outputs": [
        {
          "name": "stdout",
          "output_type": "stream",
          "text": [
            "Requirement already satisfied: scikit-learn in /home/vincent/anaconda3/lib/python3.9/site-packages (0.24.2)\n",
            "Requirement already satisfied: threadpoolctl>=2.0.0 in /home/vincent/anaconda3/lib/python3.9/site-packages (from scikit-learn) (2.2.0)\n",
            "Requirement already satisfied: scipy>=0.19.1 in /home/vincent/anaconda3/lib/python3.9/site-packages (from scikit-learn) (1.7.1)\n",
            "Requirement already satisfied: joblib>=0.11 in /home/vincent/anaconda3/lib/python3.9/site-packages (from scikit-learn) (1.1.0)\n",
            "Requirement already satisfied: numpy>=1.13.3 in /home/vincent/anaconda3/lib/python3.9/site-packages (from scikit-learn) (1.20.3)\n",
            "Note: you may need to restart the kernel to use updated packages.\n"
          ]
        }
      ],
      "source": [
        "%pip install scikit-learn --user"
      ]
    },
    {
      "cell_type": "code",
      "execution_count": 67,
      "metadata": {},
      "outputs": [
        {
          "name": "stdout",
          "output_type": "stream",
          "text": [
            "Collecting sklearn\n",
            "  Using cached sklearn-0.0-py2.py3-none-any.whl\n",
            "Requirement already satisfied: scikit-learn in /home/vincent/anaconda3/lib/python3.9/site-packages (from sklearn) (0.24.2)\n",
            "Requirement already satisfied: scipy>=0.19.1 in /home/vincent/anaconda3/lib/python3.9/site-packages (from scikit-learn->sklearn) (1.7.1)\n",
            "Requirement already satisfied: threadpoolctl>=2.0.0 in /home/vincent/anaconda3/lib/python3.9/site-packages (from scikit-learn->sklearn) (2.2.0)\n",
            "Requirement already satisfied: joblib>=0.11 in /home/vincent/anaconda3/lib/python3.9/site-packages (from scikit-learn->sklearn) (1.1.0)\n",
            "Requirement already satisfied: numpy>=1.13.3 in /home/vincent/anaconda3/lib/python3.9/site-packages (from scikit-learn->sklearn) (1.20.3)\n",
            "Installing collected packages: sklearn\n",
            "Successfully installed sklearn-0.0\n",
            "Note: you may need to restart the kernel to use updated packages.\n"
          ]
        }
      ],
      "source": [
        "pip install sklearn --user"
      ]
    },
    {
      "cell_type": "code",
      "execution_count": null,
      "metadata": {},
      "outputs": [],
      "source": []
    },
    {
      "cell_type": "code",
      "execution_count": 68,
      "metadata": {},
      "outputs": [],
      "source": [
        "from sklearn.model_selection import train_test_split"
      ]
    },
    {
      "cell_type": "markdown",
      "metadata": {},
      "source": [
        "Modelling"
      ]
    },
    {
      "cell_type": "code",
      "execution_count": 69,
      "metadata": {},
      "outputs": [],
      "source": [
        "X = Data.drop(columns = 'Absenteeism')\n",
        "y = Data['Absenteeism']\n",
        "X_train, X_test, y_train, y_test = train_test_split(X,y, stratify = y , test_size = 0.3, random_state =42)"
      ]
    },
    {
      "cell_type": "markdown",
      "metadata": {},
      "source": [
        "Random forest model"
      ]
    },
    {
      "cell_type": "code",
      "execution_count": 70,
      "metadata": {},
      "outputs": [
        {
          "name": "stdout",
          "output_type": "stream",
          "text": [
            "Your train accuracy is: 1.0\n",
            "Your prediction is: 0.9914712153518124\n"
          ]
        }
      ],
      "source": [
        "from sklearn.ensemble import RandomForestClassifier \n",
        "model = RandomForestClassifier(max_depth=4,min_samples_leaf=3, random_state = 10) \n",
        "model.fit(X_train, y_train)\n",
        "\n",
        "from sklearn.metrics import accuracy_score\n",
        "yhat = model.predict(X_test)\n",
        "print(f'Your train accuracy is: {accuracy_score(y_test,yhat)}')\n",
        "\n",
        "pred_train = model.predict(X_train)\n",
        "print(f'Your prediction is: {accuracy_score(y_train,pred_train)}')"
      ]
    },
    {
      "cell_type": "code",
      "execution_count": 75,
      "metadata": {},
      "outputs": [
        {
          "name": "stdout",
          "output_type": "stream",
          "text": [
            "Your train accuracy is: 0.9353233830845771\n",
            "Your prediction is: 0.9360341151385928\n",
            "              precision    recall  f1-score   support\n",
            "\n",
            "           0       0.00      0.00      0.00        13\n",
            "           1       0.94      1.00      0.97       188\n",
            "\n",
            "    accuracy                           0.94       201\n",
            "   macro avg       0.47      0.50      0.48       201\n",
            "weighted avg       0.87      0.94      0.90       201\n",
            "\n"
          ]
        }
      ],
      "source": [
        "from sklearn.linear_model import LogisticRegression\n",
        "from sklearn.metrics import classification_report, confusion_matrix\n",
        "model_lr = LogisticRegression()\n",
        "model_lr.fit(X_train, y_train)\n",
        "\n",
        "from sklearn.metrics import accuracy_score\n",
        "yhat = model_lr.predict(X_test)\n",
        "print(f'Your train accuracy is: {accuracy_score(y_test,yhat)}')\n",
        "\n",
        "pred_train_lr = model_lr.predict(X_train)\n",
        "print(f'Your prediction is: {accuracy_score(y_train,pred_train_lr)}')\n",
        "\n",
        "print(classification_report(y_test, yhat))"
      ]
    },
    {
      "cell_type": "code",
      "execution_count": 74,
      "metadata": {},
      "outputs": [
        {
          "name": "stdout",
          "output_type": "stream",
          "text": [
            "Your train accuracy is: 0.9353233830845771\n",
            "Your prediction is: 0.9360341151385928\n",
            "              precision    recall  f1-score   support\n",
            "\n",
            "           0       0.00      0.00      0.00        13\n",
            "           1       0.94      1.00      0.97       188\n",
            "\n",
            "    accuracy                           0.94       201\n",
            "   macro avg       0.47      0.50      0.48       201\n",
            "weighted avg       0.87      0.94      0.90       201\n",
            "\n"
          ]
        }
      ],
      "source": [
        "from sklearn.svm import SVC\n",
        "\n",
        "model_sv = SVC()\n",
        "model_sv.fit(X_train, y_train)\n",
        "\n",
        "from sklearn.metrics import accuracy_score\n",
        "yhat = model_sv.predict(X_test)\n",
        "print(f'Your train accuracy is: {accuracy_score(y_test,yhat)}')\n",
        "\n",
        "pred_train_sv = model_sv.predict(X_train)\n",
        "print(f'Your prediction is: {accuracy_score(y_train,pred_train_sv)}')\n",
        "\n",
        "print(classification_report(y_test, yhat))\n"
      ]
    }
  ],
  "metadata": {
    "colab": {
      "name": "predicting_employee_absenteeism.ipynb",
      "provenance": []
    },
    "kernelspec": {
      "display_name": "Python 3",
      "name": "python3"
    },
    "language_info": {
      "codemirror_mode": {
        "name": "ipython",
        "version": 3
      },
      "file_extension": ".py",
      "mimetype": "text/x-python",
      "name": "python",
      "nbconvert_exporter": "python",
      "pygments_lexer": "ipython3",
      "version": "3.9.7"
    }
  },
  "nbformat": 4,
  "nbformat_minor": 0
}
