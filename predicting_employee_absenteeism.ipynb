{
  "nbformat": 4,
  "nbformat_minor": 0,
  "metadata": {
    "colab": {
      "name": "predicting_employee_absenteeism.ipynb",
      "provenance": []
    },
    "kernelspec": {
      "name": "python3",
      "display_name": "Python 3"
    },
    "language_info": {
      "name": "python"
    }
  },
  "cells": [
    {
      "cell_type": "code",
      "execution_count": null,
      "metadata": {
        "id": "7CHL-Q8vdHHm"
      },
      "outputs": [],
      "source": [
        ""
      ]
    },
    {
      "cell_type": "markdown",
      "source": [
        "# **Predicting Employee Absenteeism From Work**"
      ],
      "metadata": {
        "id": "0Q6e6We8dX3O"
      }
    },
    {
      "cell_type": "markdown",
      "source": [
        "# Abstract\n",
        "The database was created with records of absenteeism at work from July 2007 to July 2010 at a courier company in Brazil"
      ],
      "metadata": {
        "id": "4Wu3Pm98d0p6"
      }
    },
    {
      "cell_type": "markdown",
      "source": [
        "# **Problem Statement**\n",
        "Today's work environment has a lot of problems including:\n",
        "\n",
        "\n",
        "*   Managers setting unachievable goals\n",
        "*   Competition among industries\n",
        "*   high risk of being unemployed\n",
        "\n",
        "As a result, employees are likely to face huge pressure and work stress which has effect on employee health\n",
        "\n",
        "\n"
      ],
      "metadata": {
        "id": "4ZRkyejJeAur"
      }
    },
    {
      "cell_type": "markdown",
      "source": [
        "**Aim of the portfolio**\n",
        "\n",
        "To predict hours of Absenteeism at work using the features provided in the data set with information like:\n",
        "* How far they live from their workplace.\n",
        "* How many children and pets they have.\n",
        "* Do they have higher education?"
      ],
      "metadata": {
        "id": "Po58NHJYd34s"
      }
    },
    {
      "cell_type": "markdown",
      "source": [
        "**Data source**\n",
        "UCI Machine Learning Repository"
      ],
      "metadata": {
        "id": "RiYAAGjMj7Ky"
      }
    },
    {
      "cell_type": "code",
      "source": [
        ""
      ],
      "metadata": {
        "id": "AKNhxneDjsqd"
      },
      "execution_count": null,
      "outputs": []
    },
    {
      "cell_type": "markdown",
      "source": [
        "\n"
      ],
      "metadata": {
        "id": "wptG_UJyjtEo"
      }
    },
    {
      "cell_type": "markdown",
      "source": [
        "**Basic Imports**"
      ],
      "metadata": {
        "id": "puHRxz91iSS7"
      }
    },
    {
      "cell_type": "code",
      "source": [
        "import pandas as pd\n",
        "import numpy as np\n",
        "import matplotlib.pyplot as plt\n",
        "import seaborn as sns\n"
      ],
      "metadata": {
        "id": "9FJFMXz7gLl9"
      },
      "execution_count": null,
      "outputs": []
    }
  ]
}